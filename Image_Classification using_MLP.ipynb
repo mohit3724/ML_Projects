{
 "cells": [
  {
   "cell_type": "code",
   "execution_count": null,
   "metadata": {
    "id": "2HR9TSER6NrH"
   },
   "outputs": [],
   "source": [
    "#unzipping the data\n",
    "from zipfile import ZipFile\n",
    "with ZipFile('drive/MyDrive/Colab Notebooks/data.zip', 'r') as zipobj:\n",
    "  zipobj.extractall('drive/MyDrive/Colab Notebooks')"
   ]
  },
  {
   "cell_type": "code",
   "execution_count": null,
   "metadata": {
    "id": "HQ-lLSf-qmP_"
   },
   "outputs": [],
   "source": [
    "!pip install parse"
   ]
  },
  {
   "cell_type": "code",
   "execution_count": 4,
   "metadata": {
    "id": "sQZJSYcz5zBY"
   },
   "outputs": [],
   "source": [
    "#importing basic libraries\n",
    "\n",
    "import tensorflow as tf\n",
    "import matplotlib.pyplot as plt\n",
    "import pandas as pd\n",
    "import os\n",
    "import glob\n",
    "from skimage.io import imread"
   ]
  },
  {
   "cell_type": "markdown",
   "metadata": {
    "id": "gkwsGSG-NzyM"
   },
   "source": [
    "## **Train_dataset**"
   ]
  },
  {
   "cell_type": "code",
   "execution_count": 90,
   "metadata": {
    "id": "bZrf09ZCoDAc"
   },
   "outputs": [],
   "source": [
    "path='drive/MyDrive/Colab Notebooks/Test_data/Train/airplane'\n",
    "filename=[]\n",
    "file_names = os.listdir(path) \n",
    "for i in range(len(file_names)):\n",
    "  filename.append(path+'/'+file_names[i])\n",
    "\n",
    "# make a dataframe of files\n",
    "df1= pd.DataFrame()\n",
    "df1['file_name']= filename\n",
    "df1['image']='airplane'"
   ]
  },
  {
   "cell_type": "code",
   "execution_count": 91,
   "metadata": {
    "id": "unH8BMKW2vxP"
   },
   "outputs": [],
   "source": [
    "path='drive/MyDrive/Colab Notebooks/Test_data/Train/animal'\n",
    "filename=[]\n",
    "file_names = os.listdir(path) \n",
    "for i in range(len(file_names)):\n",
    "  filename.append(path+'/'+file_names[i])\n",
    "\n",
    "# make a dataframe of files\n",
    "df2= pd.DataFrame()\n",
    "df2['file_name']= filename\n",
    "df2['image']='animal'"
   ]
  },
  {
   "cell_type": "code",
   "execution_count": 92,
   "metadata": {
    "id": "EzYcKtdh3CNq"
   },
   "outputs": [],
   "source": [
    "path='drive/MyDrive/Colab Notebooks/Test_data/Train/car'\n",
    "filename=[]\n",
    "file_names = os.listdir(path) \n",
    "for i in range(len(file_names)):\n",
    "  filename.append(path+'/'+file_names[i])\n",
    "\n",
    "# make a dataframe of files\n",
    "df3= pd.DataFrame()\n",
    "df3['file_name']= filename\n",
    "df3['image']='car'"
   ]
  },
  {
   "cell_type": "code",
   "execution_count": 93,
   "metadata": {
    "id": "A_gtGgkr3VbW"
   },
   "outputs": [],
   "source": [
    "path='drive/MyDrive/Colab Notebooks/Test_data/Train/human'\n",
    "filename=[]\n",
    "file_names = os.listdir(path) \n",
    "for i in range(len(file_names)):\n",
    "  filename.append(path+'/'+file_names[i])\n",
    "\n",
    "# make a dataframe of files\n",
    "df4= pd.DataFrame()\n",
    "df4['file_name']= filename\n",
    "df4['image']='human'"
   ]
  },
  {
   "cell_type": "code",
   "execution_count": 94,
   "metadata": {
    "id": "zDKh3uuT3guo"
   },
   "outputs": [],
   "source": [
    "path='drive/MyDrive/Colab Notebooks/Test_data/Train/truck'\n",
    "filename=[]\n",
    "file_names = os.listdir(path) \n",
    "for i in range(len(file_names)):\n",
    "  filename.append(path+'/'+file_names[i])\n",
    "\n",
    "# make a dataframe of files\n",
    "df5= pd.DataFrame()\n",
    "df5['file_name']= filename\n",
    "df5['image']='truck'"
   ]
  },
  {
   "cell_type": "code",
   "execution_count": 95,
   "metadata": {
    "colab": {
     "base_uri": "https://localhost:8080/",
     "height": 423
    },
    "id": "eSnrNckD3uKG",
    "outputId": "a5a60685-2ca8-47ed-d341-f416d9ade605"
   },
   "outputs": [
    {
     "data": {
      "text/html": [
       "\n",
       "  <div id=\"df-9caed559-0404-42e8-94f9-1514526ba899\">\n",
       "    <div class=\"colab-df-container\">\n",
       "      <div>\n",
       "<style scoped>\n",
       "    .dataframe tbody tr th:only-of-type {\n",
       "        vertical-align: middle;\n",
       "    }\n",
       "\n",
       "    .dataframe tbody tr th {\n",
       "        vertical-align: top;\n",
       "    }\n",
       "\n",
       "    .dataframe thead th {\n",
       "        text-align: right;\n",
       "    }\n",
       "</style>\n",
       "<table border=\"1\" class=\"dataframe\">\n",
       "  <thead>\n",
       "    <tr style=\"text-align: right;\">\n",
       "      <th></th>\n",
       "      <th>file_name</th>\n",
       "      <th>image</th>\n",
       "    </tr>\n",
       "  </thead>\n",
       "  <tbody>\n",
       "    <tr>\n",
       "      <th>0</th>\n",
       "      <td>drive/MyDrive/Colab Notebooks/Test_data/Train/...</td>\n",
       "      <td>airplane</td>\n",
       "    </tr>\n",
       "    <tr>\n",
       "      <th>1</th>\n",
       "      <td>drive/MyDrive/Colab Notebooks/Test_data/Train/...</td>\n",
       "      <td>airplane</td>\n",
       "    </tr>\n",
       "    <tr>\n",
       "      <th>2</th>\n",
       "      <td>drive/MyDrive/Colab Notebooks/Test_data/Train/...</td>\n",
       "      <td>airplane</td>\n",
       "    </tr>\n",
       "    <tr>\n",
       "      <th>3</th>\n",
       "      <td>drive/MyDrive/Colab Notebooks/Test_data/Train/...</td>\n",
       "      <td>airplane</td>\n",
       "    </tr>\n",
       "    <tr>\n",
       "      <th>4</th>\n",
       "      <td>drive/MyDrive/Colab Notebooks/Test_data/Train/...</td>\n",
       "      <td>airplane</td>\n",
       "    </tr>\n",
       "    <tr>\n",
       "      <th>...</th>\n",
       "      <td>...</td>\n",
       "      <td>...</td>\n",
       "    </tr>\n",
       "    <tr>\n",
       "      <th>965</th>\n",
       "      <td>drive/MyDrive/Colab Notebooks/Test_data/Train/...</td>\n",
       "      <td>truck</td>\n",
       "    </tr>\n",
       "    <tr>\n",
       "      <th>966</th>\n",
       "      <td>drive/MyDrive/Colab Notebooks/Test_data/Train/...</td>\n",
       "      <td>truck</td>\n",
       "    </tr>\n",
       "    <tr>\n",
       "      <th>967</th>\n",
       "      <td>drive/MyDrive/Colab Notebooks/Test_data/Train/...</td>\n",
       "      <td>truck</td>\n",
       "    </tr>\n",
       "    <tr>\n",
       "      <th>968</th>\n",
       "      <td>drive/MyDrive/Colab Notebooks/Test_data/Train/...</td>\n",
       "      <td>truck</td>\n",
       "    </tr>\n",
       "    <tr>\n",
       "      <th>969</th>\n",
       "      <td>drive/MyDrive/Colab Notebooks/Test_data/Train/...</td>\n",
       "      <td>truck</td>\n",
       "    </tr>\n",
       "  </tbody>\n",
       "</table>\n",
       "<p>970 rows × 2 columns</p>\n",
       "</div>\n",
       "      <button class=\"colab-df-convert\" onclick=\"convertToInteractive('df-9caed559-0404-42e8-94f9-1514526ba899')\"\n",
       "              title=\"Convert this dataframe to an interactive table.\"\n",
       "              style=\"display:none;\">\n",
       "        \n",
       "  <svg xmlns=\"http://www.w3.org/2000/svg\" height=\"24px\"viewBox=\"0 0 24 24\"\n",
       "       width=\"24px\">\n",
       "    <path d=\"M0 0h24v24H0V0z\" fill=\"none\"/>\n",
       "    <path d=\"M18.56 5.44l.94 2.06.94-2.06 2.06-.94-2.06-.94-.94-2.06-.94 2.06-2.06.94zm-11 1L8.5 8.5l.94-2.06 2.06-.94-2.06-.94L8.5 2.5l-.94 2.06-2.06.94zm10 10l.94 2.06.94-2.06 2.06-.94-2.06-.94-.94-2.06-.94 2.06-2.06.94z\"/><path d=\"M17.41 7.96l-1.37-1.37c-.4-.4-.92-.59-1.43-.59-.52 0-1.04.2-1.43.59L10.3 9.45l-7.72 7.72c-.78.78-.78 2.05 0 2.83L4 21.41c.39.39.9.59 1.41.59.51 0 1.02-.2 1.41-.59l7.78-7.78 2.81-2.81c.8-.78.8-2.07 0-2.86zM5.41 20L4 18.59l7.72-7.72 1.47 1.35L5.41 20z\"/>\n",
       "  </svg>\n",
       "      </button>\n",
       "      \n",
       "  <style>\n",
       "    .colab-df-container {\n",
       "      display:flex;\n",
       "      flex-wrap:wrap;\n",
       "      gap: 12px;\n",
       "    }\n",
       "\n",
       "    .colab-df-convert {\n",
       "      background-color: #E8F0FE;\n",
       "      border: none;\n",
       "      border-radius: 50%;\n",
       "      cursor: pointer;\n",
       "      display: none;\n",
       "      fill: #1967D2;\n",
       "      height: 32px;\n",
       "      padding: 0 0 0 0;\n",
       "      width: 32px;\n",
       "    }\n",
       "\n",
       "    .colab-df-convert:hover {\n",
       "      background-color: #E2EBFA;\n",
       "      box-shadow: 0px 1px 2px rgba(60, 64, 67, 0.3), 0px 1px 3px 1px rgba(60, 64, 67, 0.15);\n",
       "      fill: #174EA6;\n",
       "    }\n",
       "\n",
       "    [theme=dark] .colab-df-convert {\n",
       "      background-color: #3B4455;\n",
       "      fill: #D2E3FC;\n",
       "    }\n",
       "\n",
       "    [theme=dark] .colab-df-convert:hover {\n",
       "      background-color: #434B5C;\n",
       "      box-shadow: 0px 1px 3px 1px rgba(0, 0, 0, 0.15);\n",
       "      filter: drop-shadow(0px 1px 2px rgba(0, 0, 0, 0.3));\n",
       "      fill: #FFFFFF;\n",
       "    }\n",
       "  </style>\n",
       "\n",
       "      <script>\n",
       "        const buttonEl =\n",
       "          document.querySelector('#df-9caed559-0404-42e8-94f9-1514526ba899 button.colab-df-convert');\n",
       "        buttonEl.style.display =\n",
       "          google.colab.kernel.accessAllowed ? 'block' : 'none';\n",
       "\n",
       "        async function convertToInteractive(key) {\n",
       "          const element = document.querySelector('#df-9caed559-0404-42e8-94f9-1514526ba899');\n",
       "          const dataTable =\n",
       "            await google.colab.kernel.invokeFunction('convertToInteractive',\n",
       "                                                     [key], {});\n",
       "          if (!dataTable) return;\n",
       "\n",
       "          const docLinkHtml = 'Like what you see? Visit the ' +\n",
       "            '<a target=\"_blank\" href=https://colab.research.google.com/notebooks/data_table.ipynb>data table notebook</a>'\n",
       "            + ' to learn more about interactive tables.';\n",
       "          element.innerHTML = '';\n",
       "          dataTable['output_type'] = 'display_data';\n",
       "          await google.colab.output.renderOutput(dataTable, element);\n",
       "          const docLink = document.createElement('div');\n",
       "          docLink.innerHTML = docLinkHtml;\n",
       "          element.appendChild(docLink);\n",
       "        }\n",
       "      </script>\n",
       "    </div>\n",
       "  </div>\n",
       "  "
      ],
      "text/plain": [
       "                                             file_name     image\n",
       "0    drive/MyDrive/Colab Notebooks/Test_data/Train/...  airplane\n",
       "1    drive/MyDrive/Colab Notebooks/Test_data/Train/...  airplane\n",
       "2    drive/MyDrive/Colab Notebooks/Test_data/Train/...  airplane\n",
       "3    drive/MyDrive/Colab Notebooks/Test_data/Train/...  airplane\n",
       "4    drive/MyDrive/Colab Notebooks/Test_data/Train/...  airplane\n",
       "..                                                 ...       ...\n",
       "965  drive/MyDrive/Colab Notebooks/Test_data/Train/...     truck\n",
       "966  drive/MyDrive/Colab Notebooks/Test_data/Train/...     truck\n",
       "967  drive/MyDrive/Colab Notebooks/Test_data/Train/...     truck\n",
       "968  drive/MyDrive/Colab Notebooks/Test_data/Train/...     truck\n",
       "969  drive/MyDrive/Colab Notebooks/Test_data/Train/...     truck\n",
       "\n",
       "[970 rows x 2 columns]"
      ]
     },
     "execution_count": 95,
     "metadata": {},
     "output_type": "execute_result"
    }
   ],
   "source": [
    "df_1 = df1.append(df2)\n",
    "df_2 = df3.append(df4)\n",
    "df_3 = df_2.append(df5)\n",
    "train_df = df_1.append(df_3)\n",
    "train_df = train_df.reset_index(drop=True)\n",
    "train_df"
   ]
  },
  {
   "cell_type": "markdown",
   "metadata": {
    "id": "2hfpDk1yNtHS"
   },
   "source": [
    "# Test_dataset"
   ]
  },
  {
   "cell_type": "code",
   "execution_count": 96,
   "metadata": {
    "colab": {
     "base_uri": "https://localhost:8080/",
     "height": 423
    },
    "id": "s1z5lHaT328k",
    "outputId": "56fac5a6-ee4f-434d-8a34-8a6f67829f18"
   },
   "outputs": [
    {
     "data": {
      "text/html": [
       "\n",
       "  <div id=\"df-4f263aad-bb53-4ce1-bbd6-7e388846ce60\">\n",
       "    <div class=\"colab-df-container\">\n",
       "      <div>\n",
       "<style scoped>\n",
       "    .dataframe tbody tr th:only-of-type {\n",
       "        vertical-align: middle;\n",
       "    }\n",
       "\n",
       "    .dataframe tbody tr th {\n",
       "        vertical-align: top;\n",
       "    }\n",
       "\n",
       "    .dataframe thead th {\n",
       "        text-align: right;\n",
       "    }\n",
       "</style>\n",
       "<table border=\"1\" class=\"dataframe\">\n",
       "  <thead>\n",
       "    <tr style=\"text-align: right;\">\n",
       "      <th></th>\n",
       "      <th>file_name</th>\n",
       "    </tr>\n",
       "  </thead>\n",
       "  <tbody>\n",
       "    <tr>\n",
       "      <th>0</th>\n",
       "      <td>drive/MyDrive/Colab Notebooks/Test_data/Test/0...</td>\n",
       "    </tr>\n",
       "    <tr>\n",
       "      <th>1</th>\n",
       "      <td>drive/MyDrive/Colab Notebooks/Test_data/Test/0...</td>\n",
       "    </tr>\n",
       "    <tr>\n",
       "      <th>2</th>\n",
       "      <td>drive/MyDrive/Colab Notebooks/Test_data/Test/0...</td>\n",
       "    </tr>\n",
       "    <tr>\n",
       "      <th>3</th>\n",
       "      <td>drive/MyDrive/Colab Notebooks/Test_data/Test/0...</td>\n",
       "    </tr>\n",
       "    <tr>\n",
       "      <th>4</th>\n",
       "      <td>drive/MyDrive/Colab Notebooks/Test_data/Test/0...</td>\n",
       "    </tr>\n",
       "    <tr>\n",
       "      <th>...</th>\n",
       "      <td>...</td>\n",
       "    </tr>\n",
       "    <tr>\n",
       "      <th>1935</th>\n",
       "      <td>drive/MyDrive/Colab Notebooks/Test_data/Test/0...</td>\n",
       "    </tr>\n",
       "    <tr>\n",
       "      <th>1936</th>\n",
       "      <td>drive/MyDrive/Colab Notebooks/Test_data/Test/0...</td>\n",
       "    </tr>\n",
       "    <tr>\n",
       "      <th>1937</th>\n",
       "      <td>drive/MyDrive/Colab Notebooks/Test_data/Test/0...</td>\n",
       "    </tr>\n",
       "    <tr>\n",
       "      <th>1938</th>\n",
       "      <td>drive/MyDrive/Colab Notebooks/Test_data/Test/0...</td>\n",
       "    </tr>\n",
       "    <tr>\n",
       "      <th>1939</th>\n",
       "      <td>drive/MyDrive/Colab Notebooks/Test_data/Test/0...</td>\n",
       "    </tr>\n",
       "  </tbody>\n",
       "</table>\n",
       "<p>1940 rows × 1 columns</p>\n",
       "</div>\n",
       "      <button class=\"colab-df-convert\" onclick=\"convertToInteractive('df-4f263aad-bb53-4ce1-bbd6-7e388846ce60')\"\n",
       "              title=\"Convert this dataframe to an interactive table.\"\n",
       "              style=\"display:none;\">\n",
       "        \n",
       "  <svg xmlns=\"http://www.w3.org/2000/svg\" height=\"24px\"viewBox=\"0 0 24 24\"\n",
       "       width=\"24px\">\n",
       "    <path d=\"M0 0h24v24H0V0z\" fill=\"none\"/>\n",
       "    <path d=\"M18.56 5.44l.94 2.06.94-2.06 2.06-.94-2.06-.94-.94-2.06-.94 2.06-2.06.94zm-11 1L8.5 8.5l.94-2.06 2.06-.94-2.06-.94L8.5 2.5l-.94 2.06-2.06.94zm10 10l.94 2.06.94-2.06 2.06-.94-2.06-.94-.94-2.06-.94 2.06-2.06.94z\"/><path d=\"M17.41 7.96l-1.37-1.37c-.4-.4-.92-.59-1.43-.59-.52 0-1.04.2-1.43.59L10.3 9.45l-7.72 7.72c-.78.78-.78 2.05 0 2.83L4 21.41c.39.39.9.59 1.41.59.51 0 1.02-.2 1.41-.59l7.78-7.78 2.81-2.81c.8-.78.8-2.07 0-2.86zM5.41 20L4 18.59l7.72-7.72 1.47 1.35L5.41 20z\"/>\n",
       "  </svg>\n",
       "      </button>\n",
       "      \n",
       "  <style>\n",
       "    .colab-df-container {\n",
       "      display:flex;\n",
       "      flex-wrap:wrap;\n",
       "      gap: 12px;\n",
       "    }\n",
       "\n",
       "    .colab-df-convert {\n",
       "      background-color: #E8F0FE;\n",
       "      border: none;\n",
       "      border-radius: 50%;\n",
       "      cursor: pointer;\n",
       "      display: none;\n",
       "      fill: #1967D2;\n",
       "      height: 32px;\n",
       "      padding: 0 0 0 0;\n",
       "      width: 32px;\n",
       "    }\n",
       "\n",
       "    .colab-df-convert:hover {\n",
       "      background-color: #E2EBFA;\n",
       "      box-shadow: 0px 1px 2px rgba(60, 64, 67, 0.3), 0px 1px 3px 1px rgba(60, 64, 67, 0.15);\n",
       "      fill: #174EA6;\n",
       "    }\n",
       "\n",
       "    [theme=dark] .colab-df-convert {\n",
       "      background-color: #3B4455;\n",
       "      fill: #D2E3FC;\n",
       "    }\n",
       "\n",
       "    [theme=dark] .colab-df-convert:hover {\n",
       "      background-color: #434B5C;\n",
       "      box-shadow: 0px 1px 3px 1px rgba(0, 0, 0, 0.15);\n",
       "      filter: drop-shadow(0px 1px 2px rgba(0, 0, 0, 0.3));\n",
       "      fill: #FFFFFF;\n",
       "    }\n",
       "  </style>\n",
       "\n",
       "      <script>\n",
       "        const buttonEl =\n",
       "          document.querySelector('#df-4f263aad-bb53-4ce1-bbd6-7e388846ce60 button.colab-df-convert');\n",
       "        buttonEl.style.display =\n",
       "          google.colab.kernel.accessAllowed ? 'block' : 'none';\n",
       "\n",
       "        async function convertToInteractive(key) {\n",
       "          const element = document.querySelector('#df-4f263aad-bb53-4ce1-bbd6-7e388846ce60');\n",
       "          const dataTable =\n",
       "            await google.colab.kernel.invokeFunction('convertToInteractive',\n",
       "                                                     [key], {});\n",
       "          if (!dataTable) return;\n",
       "\n",
       "          const docLinkHtml = 'Like what you see? Visit the ' +\n",
       "            '<a target=\"_blank\" href=https://colab.research.google.com/notebooks/data_table.ipynb>data table notebook</a>'\n",
       "            + ' to learn more about interactive tables.';\n",
       "          element.innerHTML = '';\n",
       "          dataTable['output_type'] = 'display_data';\n",
       "          await google.colab.output.renderOutput(dataTable, element);\n",
       "          const docLink = document.createElement('div');\n",
       "          docLink.innerHTML = docLinkHtml;\n",
       "          element.appendChild(docLink);\n",
       "        }\n",
       "      </script>\n",
       "    </div>\n",
       "  </div>\n",
       "  "
      ],
      "text/plain": [
       "                                              file_name\n",
       "0     drive/MyDrive/Colab Notebooks/Test_data/Test/0...\n",
       "1     drive/MyDrive/Colab Notebooks/Test_data/Test/0...\n",
       "2     drive/MyDrive/Colab Notebooks/Test_data/Test/0...\n",
       "3     drive/MyDrive/Colab Notebooks/Test_data/Test/0...\n",
       "4     drive/MyDrive/Colab Notebooks/Test_data/Test/0...\n",
       "...                                                 ...\n",
       "1935  drive/MyDrive/Colab Notebooks/Test_data/Test/0...\n",
       "1936  drive/MyDrive/Colab Notebooks/Test_data/Test/0...\n",
       "1937  drive/MyDrive/Colab Notebooks/Test_data/Test/0...\n",
       "1938  drive/MyDrive/Colab Notebooks/Test_data/Test/0...\n",
       "1939  drive/MyDrive/Colab Notebooks/Test_data/Test/0...\n",
       "\n",
       "[1940 rows x 1 columns]"
      ]
     },
     "execution_count": 96,
     "metadata": {},
     "output_type": "execute_result"
    }
   ],
   "source": [
    "path='drive/MyDrive/Colab Notebooks/Test_data/Test'\n",
    "filename=[]\n",
    "file_names = os.listdir(path) \n",
    "for i in range(len(file_names)):\n",
    "  filename.append(path+'/'+file_names[i])\n",
    "\n",
    "# make a dataframe of files\n",
    "test_df= pd.DataFrame()\n",
    "test_df['file_name']= filename\n",
    "test_df"
   ]
  },
  {
   "cell_type": "markdown",
   "metadata": {
    "id": "LudSjv64NkjI"
   },
   "source": [
    "# **Validation_dataset**"
   ]
  },
  {
   "cell_type": "code",
   "execution_count": 97,
   "metadata": {
    "id": "r_Am5w5NMVE1"
   },
   "outputs": [],
   "source": [
    "path='drive/MyDrive/Colab Notebooks/Test_data/Val/airplane'\n",
    "filename=[]\n",
    "file_names = os.listdir(path) \n",
    "for i in range(len(file_names)):\n",
    "  filename.append(path+'/'+file_names[i])\n",
    "\n",
    "# make a dataframe of files\n",
    "df6= pd.DataFrame()\n",
    "df6['file_name']= filename\n",
    "df6['image']='airplane'"
   ]
  },
  {
   "cell_type": "code",
   "execution_count": 98,
   "metadata": {
    "id": "U4ZfD8jgMVC7"
   },
   "outputs": [],
   "source": [
    "filename=[]\n",
    "file_names = os.listdir(path) \n",
    "for i in range(len(file_names)):\n",
    "  filename.append(path+'/'+file_names[i])\n",
    "\n",
    "# make a dataframe of files\n",
    "df7= pd.DataFrame()\n",
    "df7['file_name']= filename\n",
    "df7['image']='animal'"
   ]
  },
  {
   "cell_type": "code",
   "execution_count": 99,
   "metadata": {
    "id": "Zbb3QtjgMVAr"
   },
   "outputs": [],
   "source": [
    "path='drive/MyDrive/Colab Notebooks/Test_data/Val/car'\n",
    "filename=[]\n",
    "file_names = os.listdir(path) \n",
    "for i in range(len(file_names)):\n",
    "  filename.append(path+'/'+file_names[i])\n",
    "\n",
    "# make a dataframe of files\n",
    "df8= pd.DataFrame()\n",
    "df8['file_name']= filename\n",
    "df8['image']='car'"
   ]
  },
  {
   "cell_type": "code",
   "execution_count": 100,
   "metadata": {
    "id": "NkIvICi-MU98"
   },
   "outputs": [],
   "source": [
    "path='drive/MyDrive/Colab Notebooks/Test_data/Val/human'\n",
    "filename=[]\n",
    "file_names = os.listdir(path) \n",
    "for i in range(len(file_names)):\n",
    "  filename.append(path+'/'+file_names[i])\n",
    "\n",
    "# make a dataframe of files\n",
    "df9= pd.DataFrame()\n",
    "df9['file_name']= filename\n",
    "df9['image']='human'"
   ]
  },
  {
   "cell_type": "code",
   "execution_count": 101,
   "metadata": {
    "id": "pRTGz-6SMUy8"
   },
   "outputs": [],
   "source": [
    "path='drive/MyDrive/Colab Notebooks/Test_data/Val/truck'\n",
    "filename=[]\n",
    "file_names = os.listdir(path) \n",
    "for i in range(len(file_names)):\n",
    "  filename.append(path+'/'+file_names[i])\n",
    "\n",
    "# make a dataframe of files\n",
    "df10= pd.DataFrame()\n",
    "df10['file_name']= filename\n",
    "df10['image']='truck'"
   ]
  },
  {
   "cell_type": "code",
   "execution_count": 102,
   "metadata": {
    "colab": {
     "base_uri": "https://localhost:8080/",
     "height": 423
    },
    "id": "kmsafiraNXAK",
    "outputId": "56cecf0d-c974-4700-de55-993762d7bd14"
   },
   "outputs": [
    {
     "data": {
      "text/html": [
       "\n",
       "  <div id=\"df-5bc8bee3-3acf-4dd7-9b51-8c8d11f7adc8\">\n",
       "    <div class=\"colab-df-container\">\n",
       "      <div>\n",
       "<style scoped>\n",
       "    .dataframe tbody tr th:only-of-type {\n",
       "        vertical-align: middle;\n",
       "    }\n",
       "\n",
       "    .dataframe tbody tr th {\n",
       "        vertical-align: top;\n",
       "    }\n",
       "\n",
       "    .dataframe thead th {\n",
       "        text-align: right;\n",
       "    }\n",
       "</style>\n",
       "<table border=\"1\" class=\"dataframe\">\n",
       "  <thead>\n",
       "    <tr style=\"text-align: right;\">\n",
       "      <th></th>\n",
       "      <th>file_name</th>\n",
       "      <th>image</th>\n",
       "    </tr>\n",
       "  </thead>\n",
       "  <tbody>\n",
       "    <tr>\n",
       "      <th>0</th>\n",
       "      <td>drive/MyDrive/Colab Notebooks/Test_data/Val/ai...</td>\n",
       "      <td>airplane</td>\n",
       "    </tr>\n",
       "    <tr>\n",
       "      <th>1</th>\n",
       "      <td>drive/MyDrive/Colab Notebooks/Test_data/Val/ai...</td>\n",
       "      <td>airplane</td>\n",
       "    </tr>\n",
       "    <tr>\n",
       "      <th>2</th>\n",
       "      <td>drive/MyDrive/Colab Notebooks/Test_data/Val/ai...</td>\n",
       "      <td>airplane</td>\n",
       "    </tr>\n",
       "    <tr>\n",
       "      <th>3</th>\n",
       "      <td>drive/MyDrive/Colab Notebooks/Test_data/Val/ai...</td>\n",
       "      <td>airplane</td>\n",
       "    </tr>\n",
       "    <tr>\n",
       "      <th>4</th>\n",
       "      <td>drive/MyDrive/Colab Notebooks/Test_data/Val/ai...</td>\n",
       "      <td>airplane</td>\n",
       "    </tr>\n",
       "    <tr>\n",
       "      <th>...</th>\n",
       "      <td>...</td>\n",
       "      <td>...</td>\n",
       "    </tr>\n",
       "    <tr>\n",
       "      <th>2905</th>\n",
       "      <td>drive/MyDrive/Colab Notebooks/Test_data/Val/tr...</td>\n",
       "      <td>truck</td>\n",
       "    </tr>\n",
       "    <tr>\n",
       "      <th>2906</th>\n",
       "      <td>drive/MyDrive/Colab Notebooks/Test_data/Val/tr...</td>\n",
       "      <td>truck</td>\n",
       "    </tr>\n",
       "    <tr>\n",
       "      <th>2907</th>\n",
       "      <td>drive/MyDrive/Colab Notebooks/Test_data/Val/tr...</td>\n",
       "      <td>truck</td>\n",
       "    </tr>\n",
       "    <tr>\n",
       "      <th>2908</th>\n",
       "      <td>drive/MyDrive/Colab Notebooks/Test_data/Val/tr...</td>\n",
       "      <td>truck</td>\n",
       "    </tr>\n",
       "    <tr>\n",
       "      <th>2909</th>\n",
       "      <td>drive/MyDrive/Colab Notebooks/Test_data/Val/tr...</td>\n",
       "      <td>truck</td>\n",
       "    </tr>\n",
       "  </tbody>\n",
       "</table>\n",
       "<p>2910 rows × 2 columns</p>\n",
       "</div>\n",
       "      <button class=\"colab-df-convert\" onclick=\"convertToInteractive('df-5bc8bee3-3acf-4dd7-9b51-8c8d11f7adc8')\"\n",
       "              title=\"Convert this dataframe to an interactive table.\"\n",
       "              style=\"display:none;\">\n",
       "        \n",
       "  <svg xmlns=\"http://www.w3.org/2000/svg\" height=\"24px\"viewBox=\"0 0 24 24\"\n",
       "       width=\"24px\">\n",
       "    <path d=\"M0 0h24v24H0V0z\" fill=\"none\"/>\n",
       "    <path d=\"M18.56 5.44l.94 2.06.94-2.06 2.06-.94-2.06-.94-.94-2.06-.94 2.06-2.06.94zm-11 1L8.5 8.5l.94-2.06 2.06-.94-2.06-.94L8.5 2.5l-.94 2.06-2.06.94zm10 10l.94 2.06.94-2.06 2.06-.94-2.06-.94-.94-2.06-.94 2.06-2.06.94z\"/><path d=\"M17.41 7.96l-1.37-1.37c-.4-.4-.92-.59-1.43-.59-.52 0-1.04.2-1.43.59L10.3 9.45l-7.72 7.72c-.78.78-.78 2.05 0 2.83L4 21.41c.39.39.9.59 1.41.59.51 0 1.02-.2 1.41-.59l7.78-7.78 2.81-2.81c.8-.78.8-2.07 0-2.86zM5.41 20L4 18.59l7.72-7.72 1.47 1.35L5.41 20z\"/>\n",
       "  </svg>\n",
       "      </button>\n",
       "      \n",
       "  <style>\n",
       "    .colab-df-container {\n",
       "      display:flex;\n",
       "      flex-wrap:wrap;\n",
       "      gap: 12px;\n",
       "    }\n",
       "\n",
       "    .colab-df-convert {\n",
       "      background-color: #E8F0FE;\n",
       "      border: none;\n",
       "      border-radius: 50%;\n",
       "      cursor: pointer;\n",
       "      display: none;\n",
       "      fill: #1967D2;\n",
       "      height: 32px;\n",
       "      padding: 0 0 0 0;\n",
       "      width: 32px;\n",
       "    }\n",
       "\n",
       "    .colab-df-convert:hover {\n",
       "      background-color: #E2EBFA;\n",
       "      box-shadow: 0px 1px 2px rgba(60, 64, 67, 0.3), 0px 1px 3px 1px rgba(60, 64, 67, 0.15);\n",
       "      fill: #174EA6;\n",
       "    }\n",
       "\n",
       "    [theme=dark] .colab-df-convert {\n",
       "      background-color: #3B4455;\n",
       "      fill: #D2E3FC;\n",
       "    }\n",
       "\n",
       "    [theme=dark] .colab-df-convert:hover {\n",
       "      background-color: #434B5C;\n",
       "      box-shadow: 0px 1px 3px 1px rgba(0, 0, 0, 0.15);\n",
       "      filter: drop-shadow(0px 1px 2px rgba(0, 0, 0, 0.3));\n",
       "      fill: #FFFFFF;\n",
       "    }\n",
       "  </style>\n",
       "\n",
       "      <script>\n",
       "        const buttonEl =\n",
       "          document.querySelector('#df-5bc8bee3-3acf-4dd7-9b51-8c8d11f7adc8 button.colab-df-convert');\n",
       "        buttonEl.style.display =\n",
       "          google.colab.kernel.accessAllowed ? 'block' : 'none';\n",
       "\n",
       "        async function convertToInteractive(key) {\n",
       "          const element = document.querySelector('#df-5bc8bee3-3acf-4dd7-9b51-8c8d11f7adc8');\n",
       "          const dataTable =\n",
       "            await google.colab.kernel.invokeFunction('convertToInteractive',\n",
       "                                                     [key], {});\n",
       "          if (!dataTable) return;\n",
       "\n",
       "          const docLinkHtml = 'Like what you see? Visit the ' +\n",
       "            '<a target=\"_blank\" href=https://colab.research.google.com/notebooks/data_table.ipynb>data table notebook</a>'\n",
       "            + ' to learn more about interactive tables.';\n",
       "          element.innerHTML = '';\n",
       "          dataTable['output_type'] = 'display_data';\n",
       "          await google.colab.output.renderOutput(dataTable, element);\n",
       "          const docLink = document.createElement('div');\n",
       "          docLink.innerHTML = docLinkHtml;\n",
       "          element.appendChild(docLink);\n",
       "        }\n",
       "      </script>\n",
       "    </div>\n",
       "  </div>\n",
       "  "
      ],
      "text/plain": [
       "                                              file_name     image\n",
       "0     drive/MyDrive/Colab Notebooks/Test_data/Val/ai...  airplane\n",
       "1     drive/MyDrive/Colab Notebooks/Test_data/Val/ai...  airplane\n",
       "2     drive/MyDrive/Colab Notebooks/Test_data/Val/ai...  airplane\n",
       "3     drive/MyDrive/Colab Notebooks/Test_data/Val/ai...  airplane\n",
       "4     drive/MyDrive/Colab Notebooks/Test_data/Val/ai...  airplane\n",
       "...                                                 ...       ...\n",
       "2905  drive/MyDrive/Colab Notebooks/Test_data/Val/tr...     truck\n",
       "2906  drive/MyDrive/Colab Notebooks/Test_data/Val/tr...     truck\n",
       "2907  drive/MyDrive/Colab Notebooks/Test_data/Val/tr...     truck\n",
       "2908  drive/MyDrive/Colab Notebooks/Test_data/Val/tr...     truck\n",
       "2909  drive/MyDrive/Colab Notebooks/Test_data/Val/tr...     truck\n",
       "\n",
       "[2910 rows x 2 columns]"
      ]
     },
     "execution_count": 102,
     "metadata": {},
     "output_type": "execute_result"
    }
   ],
   "source": [
    "df__1 = df6.append(df7)\n",
    "df__2 = df8.append(df9)\n",
    "df__3 = df__2.append(df10)\n",
    "val_df = df__1.append(df__3)\n",
    "val_df = val_df.reset_index(drop=True)\n",
    "val_df"
   ]
  },
  {
   "cell_type": "markdown",
   "metadata": {
    "id": "BOANtf1hiux9"
   },
   "source": [
    "# Converting images to Arrays using Open CV"
   ]
  },
  {
   "cell_type": "code",
   "execution_count": 103,
   "metadata": {
    "id": "9m-BUYvIO64u"
   },
   "outputs": [],
   "source": [
    "import cv2\n",
    "import numpy as np\n",
    "\n",
    "def img_conv(path):\n",
    "  img = imread(path,as_gray=True)\n",
    "  img1 = img.flatten()\n",
    "  return img1\n",
    "\n",
    "train_arr=[]\n",
    "for i in range(len(train_df)):\n",
    "  #print(i)\n",
    "  output=img_conv(train_df['file_name'][i])\n",
    "  train_arr.append(output)\n",
    "\n",
    "test_arr=[]\n",
    "for i in range(len(test_df)):\n",
    "  #print(i)\n",
    "  output=img_conv(test_df['file_name'][i])\n",
    "  test_arr.append(output)\n",
    "\n",
    "val_arr=[]\n",
    "for i in range(len(val_df)):\n",
    "  #print(i)\n",
    "  output=img_conv(val_df['file_name'][i])\n",
    "  val_arr.append(output)"
   ]
  },
  {
   "cell_type": "code",
   "execution_count": 106,
   "metadata": {
    "id": "CV6rEnKHvwHJ"
   },
   "outputs": [],
   "source": [
    "x_train=[]\n",
    "y_train=[]\n",
    "x_val=[]\n",
    "y_val=[]"
   ]
  },
  {
   "cell_type": "code",
   "execution_count": 107,
   "metadata": {
    "id": "iVZb6Sw_pBF3"
   },
   "outputs": [],
   "source": [
    "x_train=train_arr\n",
    "y_train=[]\n",
    "x_val=val_arr\n",
    "y_val=[]\n",
    "\n",
    "for i in range(len(train_df)):\n",
    "  y_train.append(train_df['image'][i])\n",
    "\n",
    "for i in range(len(val_df)):\n",
    "  y_val.append(val_df['image'][i])"
   ]
  },
  {
   "cell_type": "code",
   "execution_count": 108,
   "metadata": {
    "id": "E9vfBbU2dOlQ"
   },
   "outputs": [],
   "source": [
    "# Normalise the data\n",
    "x_train = np.array(x_train)/255\n",
    "x_val = np.array(x_val)/255"
   ]
  },
  {
   "cell_type": "code",
   "execution_count": 109,
   "metadata": {
    "id": "lestJlsY0sJ1"
   },
   "outputs": [],
   "source": [
    "y_train = np.array(y_train)\n",
    "y_val = np.array(y_val)"
   ]
  },
  {
   "cell_type": "code",
   "execution_count": 110,
   "metadata": {
    "id": "RAERu1gAzyOr"
   },
   "outputs": [],
   "source": [
    "# Import label encoder for encoding the imag types\n",
    "from sklearn import preprocessing\n",
    "from tensorflow.keras.utils import to_categorical\n",
    " \n",
    "# label_encoder object knows how to understand word labels.\n",
    "label_encoder = preprocessing.LabelEncoder()\n",
    "\n",
    "y_train = to_categorical(label_encoder.fit_transform(y_train))\n",
    "y_val = to_categorical(label_encoder.fit_transform(y_val))"
   ]
  },
  {
   "cell_type": "code",
   "execution_count": 111,
   "metadata": {
    "colab": {
     "base_uri": "https://localhost:8080/",
     "height": 0
    },
    "id": "Q80-b5UyxPFa",
    "outputId": "555b120b-1851-40d1-f577-f6864ce77b8e"
   },
   "outputs": [
    {
     "data": {
      "text/plain": [
       "(970, 5)"
      ]
     },
     "execution_count": 111,
     "metadata": {},
     "output_type": "execute_result"
    }
   ],
   "source": [
    "y_train.shape"
   ]
  },
  {
   "cell_type": "code",
   "execution_count": 112,
   "metadata": {
    "colab": {
     "base_uri": "https://localhost:8080/",
     "height": 0
    },
    "id": "kp-Ckl4V1_30",
    "outputId": "4eea9dcb-ee20-4eb6-dd4a-182922e9f1e7"
   },
   "outputs": [
    {
     "data": {
      "text/plain": [
       "(2910, 5)"
      ]
     },
     "execution_count": 112,
     "metadata": {},
     "output_type": "execute_result"
    }
   ],
   "source": [
    "y_val.shape"
   ]
  },
  {
   "cell_type": "code",
   "execution_count": 113,
   "metadata": {
    "id": "nLrlMpdY3g3G"
   },
   "outputs": [],
   "source": [
    "x_train=np.expand_dims(x_train,axis=2)\n",
    "x_val=np.expand_dims(x_val,axis=2)"
   ]
  },
  {
   "cell_type": "code",
   "execution_count": 114,
   "metadata": {
    "colab": {
     "base_uri": "https://localhost:8080/",
     "height": 0
    },
    "id": "cMBdfF6U3lQu",
    "outputId": "c7a8c915-e4ce-4017-8cb2-00c7e21723b0"
   },
   "outputs": [
    {
     "data": {
      "text/plain": [
       "(970, 9216, 1)"
      ]
     },
     "execution_count": 114,
     "metadata": {},
     "output_type": "execute_result"
    }
   ],
   "source": [
    "x_train.shape"
   ]
  },
  {
   "cell_type": "code",
   "execution_count": 115,
   "metadata": {
    "colab": {
     "base_uri": "https://localhost:8080/",
     "height": 0
    },
    "id": "6o4s_Iml3_Mj",
    "outputId": "834b60af-d0f7-4f97-c9a3-3e7c352fe267"
   },
   "outputs": [
    {
     "data": {
      "text/plain": [
       "(2910, 9216, 1)"
      ]
     },
     "execution_count": 115,
     "metadata": {},
     "output_type": "execute_result"
    }
   ],
   "source": [
    "x_val.shape"
   ]
  },
  {
   "cell_type": "markdown",
   "metadata": {
    "id": "Du-kmlYzgNnV"
   },
   "source": [
    "# Using Keras Tuner to tune the **hyper** **parameters**"
   ]
  },
  {
   "cell_type": "markdown",
   "metadata": {
    "id": "_MkB9_mJgwfl"
   },
   "source": [
    "Developing deep learning models is an iterative process, You start with an initial architecture then reconfigure until you get a model that can be trained efficiently in terms of time and compute resources.These settings that you adjust are called hyperparameters, you get the idea, you write code and see the performance, and again you to the same process until you have good performance. Hyperparameters plays an important role in developing a good model, it can make large differences, it will help you to prevent overfitting.\n",
    "\n",
    "So, there is a way where you can adjust the setting of your neural networks which is called hyperparameters and the process of finding a good set of hyperparameters is called hyperparameter tuning.  "
   ]
  },
  {
   "cell_type": "markdown",
   "metadata": {
    "id": "eEdKZN4fha_J"
   },
   "source": [
    "Keras tuner is a library for tuning the hyperparameters of a neural network that helps you to pick optimal hyperparameters in your neural network implement in Tensorflow."
   ]
  },
  {
   "cell_type": "code",
   "execution_count": 116,
   "metadata": {
    "id": "lU16RQnkIb56"
   },
   "outputs": [],
   "source": [
    "!pip install keras-tuner"
   ]
  },
  {
   "cell_type": "code",
   "execution_count": 118,
   "metadata": {
    "id": "dx2X1Vu2JGQz"
   },
   "outputs": [],
   "source": [
    "def build_model(hp):\n",
    "  model = keras.Sequential()\n",
    "  model.add(layers.Flatten(input_shape=(9216,)))\n",
    "  #1st layer\n",
    "  model.add(layers.Dense(units=hp.Int('units', min_value=256, max_value=512, step=64), activation=hp.Choice(\"activation\",[\"sigmoid\",\"relu\"])))\n",
    "  if hp.Boolean(\"dropout\"):\n",
    "    model.add(layers.Dropout(rate=0.25))\n",
    "  #2nd layer\n",
    "  model.add(layers.Dense(units=hp.Int('units', min_value=256, max_value=512, step=64), activation=hp.Choice(\"activation\",[\"sigmoid\",\"relu\"])))\n",
    "  if hp.Boolean(\"dropout\"):\n",
    "    model.add(layers.Dropout(rate=0.25))\n",
    "  #3rd layer\n",
    "  model.add(layers.Dense(units=hp.Int('units', min_value=256, max_value=512, step=64), activation=hp.Choice(\"activation\",[\"sigmoid\",\"relu\"])))\n",
    "  if hp.Boolean(\"dropout\"):\n",
    "    model.add(layers.Dropout(rate=0.25))\n",
    "  #4th layer\n",
    "  model.add(layers.Dense(units=hp.Int('units', min_value=256, max_value=512, step=64), activation=hp.Choice(\"activation\",[\"sigmoid\",\"relu\"])))\n",
    "\n",
    "  model.add(layers.Dense(5, activation='softmax'))\n",
    "  model.compile(optimizer=keras.optimizers.Adam(hp.Choice('learning_rate', values=[1e-2,1e-3,1e-4])),\n",
    "                loss = 'categorical_crossentropy', metrics = ['accuracy'])\n",
    "  return model"
   ]
  },
  {
   "cell_type": "code",
   "execution_count": 119,
   "metadata": {
    "id": "nqULDU68Jlzj"
   },
   "outputs": [],
   "source": [
    "tuner = RandomSearch(\n",
    "    build_model,\n",
    "    objective = 'val_accuracy',\n",
    "    max_trials = 5,\n",
    "    executions_per_trial = 3,\n",
    "    directory='tuner1',\n",
    "    project_name='ml8'\n",
    ")"
   ]
  },
  {
   "cell_type": "code",
   "execution_count": 120,
   "metadata": {
    "id": "GZeJ_L34JlrI"
   },
   "outputs": [],
   "source": [
    "tuner.search(x_train, y_train, epochs=50, validation_data=(x_val, y_val))"
   ]
  },
  {
   "cell_type": "code",
   "execution_count": 121,
   "metadata": {
    "id": "XFYXpskAYbJH"
   },
   "outputs": [],
   "source": [
    "# Trial summary example\n",
    "# Hyperparameters:\n",
    "# units: 448\n",
    "# activation: relu\n",
    "# dropout: False\n",
    "# learning_rate: 0.001\n",
    "# Score: 0.56414661804835"
   ]
  },
  {
   "cell_type": "code",
   "execution_count": 117,
   "metadata": {
    "id": "QB8ul9kQJAl1"
   },
   "outputs": [],
   "source": [
    "from tensorflow import keras\n",
    "import keras_tuner as kt\n",
    "from tensorflow.keras import layers\n",
    "from kerastuner.tuners import RandomSearch\n",
    "from tensorflow.keras.models import Sequential\n",
    "from tensorflow.keras.layers import Dense\n",
    "from tensorflow.keras.optimizers import Adam"
   ]
  },
  {
   "cell_type": "markdown",
   "metadata": {
    "id": "8VOqbnUahneo"
   },
   "source": [
    "# Building a model using tuner best result"
   ]
  },
  {
   "cell_type": "code",
   "execution_count": 122,
   "metadata": {
    "id": "0RJW-nP9JllG"
   },
   "outputs": [],
   "source": [
    "model = Sequential()\n",
    "#input layer\n",
    "model.add(layers.Flatten(input_shape=(9216,)))\n",
    "#first layer\n",
    "model.add(Dense(448, activation='relu'))\n",
    "#second layer\n",
    "model.add(Dense(448, activation='relu'))\n",
    "#third layer\n",
    "model.add(Dense(448, activation='relu'))\n",
    "#4th layer\n",
    "model.add(Dense(448, activation='relu'))\n",
    "#output layer\n",
    "model.add(Dense(5, activation='softmax'))"
   ]
  },
  {
   "cell_type": "code",
   "execution_count": 123,
   "metadata": {
    "colab": {
     "base_uri": "https://localhost:8080/",
     "height": 0
    },
    "id": "_rOj06wSYNrd",
    "outputId": "d4bc628e-a9f4-4d28-e777-4e1c6808805f"
   },
   "outputs": [
    {
     "name": "stdout",
     "output_type": "stream",
     "text": [
      "Epoch 1/50\n",
      "31/31 [==============================] - 3s 78ms/step - loss: 2.8950 - accuracy: 0.1969 - val_loss: 1.6803 - val_accuracy: 0.2000\n",
      "Epoch 2/50\n",
      "31/31 [==============================] - 2s 68ms/step - loss: 1.6637 - accuracy: 0.2247 - val_loss: 1.5516 - val_accuracy: 0.2498\n",
      "Epoch 3/50\n",
      "31/31 [==============================] - 2s 68ms/step - loss: 1.4952 - accuracy: 0.3289 - val_loss: 1.4707 - val_accuracy: 0.4055\n",
      "Epoch 4/50\n",
      "31/31 [==============================] - 2s 65ms/step - loss: 1.3415 - accuracy: 0.4598 - val_loss: 1.4871 - val_accuracy: 0.3412\n",
      "Epoch 5/50\n",
      "31/31 [==============================] - 2s 66ms/step - loss: 1.1921 - accuracy: 0.4722 - val_loss: 1.2417 - val_accuracy: 0.4832\n",
      "Epoch 6/50\n",
      "31/31 [==============================] - 2s 66ms/step - loss: 1.0455 - accuracy: 0.5278 - val_loss: 1.3393 - val_accuracy: 0.4244\n",
      "Epoch 7/50\n",
      "31/31 [==============================] - 2s 64ms/step - loss: 0.7508 - accuracy: 0.6711 - val_loss: 1.4797 - val_accuracy: 0.3639\n",
      "Epoch 8/50\n",
      "31/31 [==============================] - 2s 65ms/step - loss: 0.6473 - accuracy: 0.7392 - val_loss: 2.5933 - val_accuracy: 0.3368\n",
      "Epoch 9/50\n",
      "31/31 [==============================] - 2s 65ms/step - loss: 0.7742 - accuracy: 0.6660 - val_loss: 1.4890 - val_accuracy: 0.3942\n",
      "Epoch 10/50\n",
      "31/31 [==============================] - 2s 67ms/step - loss: 0.7908 - accuracy: 0.6392 - val_loss: 1.8940 - val_accuracy: 0.4471\n",
      "Epoch 11/50\n",
      "31/31 [==============================] - 2s 68ms/step - loss: 0.6349 - accuracy: 0.7423 - val_loss: 1.5120 - val_accuracy: 0.4134\n",
      "Epoch 12/50\n",
      "31/31 [==============================] - 2s 65ms/step - loss: 0.6102 - accuracy: 0.7268 - val_loss: 1.2651 - val_accuracy: 0.5086\n",
      "Epoch 13/50\n",
      "31/31 [==============================] - 2s 65ms/step - loss: 0.4819 - accuracy: 0.7866 - val_loss: 2.0266 - val_accuracy: 0.4378\n",
      "Epoch 14/50\n",
      "31/31 [==============================] - 2s 66ms/step - loss: 0.7610 - accuracy: 0.6763 - val_loss: 1.4366 - val_accuracy: 0.5148\n",
      "Epoch 15/50\n",
      "31/31 [==============================] - 2s 68ms/step - loss: 0.4058 - accuracy: 0.8320 - val_loss: 1.8172 - val_accuracy: 0.5423\n",
      "Epoch 16/50\n",
      "31/31 [==============================] - 2s 65ms/step - loss: 0.4661 - accuracy: 0.7969 - val_loss: 1.9179 - val_accuracy: 0.4615\n",
      "Epoch 17/50\n",
      "31/31 [==============================] - 2s 66ms/step - loss: 0.3973 - accuracy: 0.8289 - val_loss: 1.7376 - val_accuracy: 0.5148\n",
      "Epoch 18/50\n",
      "31/31 [==============================] - 2s 65ms/step - loss: 0.2987 - accuracy: 0.8711 - val_loss: 1.8864 - val_accuracy: 0.5488\n",
      "Epoch 19/50\n",
      "31/31 [==============================] - 2s 69ms/step - loss: 0.4741 - accuracy: 0.8072 - val_loss: 1.8102 - val_accuracy: 0.3993\n",
      "Epoch 20/50\n",
      "31/31 [==============================] - 2s 64ms/step - loss: 0.3617 - accuracy: 0.8691 - val_loss: 2.0176 - val_accuracy: 0.4729\n",
      "Epoch 21/50\n",
      "31/31 [==============================] - 2s 65ms/step - loss: 0.3232 - accuracy: 0.8639 - val_loss: 1.9670 - val_accuracy: 0.4784\n",
      "Epoch 22/50\n",
      "31/31 [==============================] - 2s 65ms/step - loss: 0.6421 - accuracy: 0.7464 - val_loss: 1.7268 - val_accuracy: 0.4766\n",
      "Epoch 23/50\n",
      "31/31 [==============================] - 2s 65ms/step - loss: 0.5681 - accuracy: 0.7660 - val_loss: 1.6018 - val_accuracy: 0.4794\n",
      "Epoch 24/50\n",
      "31/31 [==============================] - 2s 64ms/step - loss: 0.4752 - accuracy: 0.7938 - val_loss: 1.6467 - val_accuracy: 0.4794\n",
      "Epoch 25/50\n",
      "31/31 [==============================] - 2s 69ms/step - loss: 0.3731 - accuracy: 0.8557 - val_loss: 2.3018 - val_accuracy: 0.4601\n",
      "Epoch 26/50\n",
      "31/31 [==============================] - 2s 68ms/step - loss: 0.3551 - accuracy: 0.8680 - val_loss: 1.4844 - val_accuracy: 0.5062\n",
      "Epoch 27/50\n",
      "31/31 [==============================] - 2s 67ms/step - loss: 0.2413 - accuracy: 0.9031 - val_loss: 2.1300 - val_accuracy: 0.4928\n",
      "Epoch 28/50\n",
      "31/31 [==============================] - 2s 69ms/step - loss: 0.3035 - accuracy: 0.8763 - val_loss: 1.8408 - val_accuracy: 0.5206\n",
      "Epoch 29/50\n",
      "31/31 [==============================] - 2s 72ms/step - loss: 0.3506 - accuracy: 0.8474 - val_loss: 2.6812 - val_accuracy: 0.4629\n",
      "Epoch 30/50\n",
      "31/31 [==============================] - 2s 70ms/step - loss: 0.2339 - accuracy: 0.9103 - val_loss: 1.8099 - val_accuracy: 0.5086\n",
      "Epoch 31/50\n",
      "31/31 [==============================] - 2s 68ms/step - loss: 0.2548 - accuracy: 0.9134 - val_loss: 1.7800 - val_accuracy: 0.5361\n",
      "Epoch 32/50\n",
      "31/31 [==============================] - 2s 67ms/step - loss: 0.2170 - accuracy: 0.9144 - val_loss: 2.1891 - val_accuracy: 0.4990\n",
      "Epoch 33/50\n",
      "31/31 [==============================] - 2s 70ms/step - loss: 0.4507 - accuracy: 0.8227 - val_loss: 1.5692 - val_accuracy: 0.4890\n",
      "Epoch 34/50\n",
      "31/31 [==============================] - 2s 67ms/step - loss: 0.2679 - accuracy: 0.8990 - val_loss: 2.1909 - val_accuracy: 0.4409\n",
      "Epoch 35/50\n",
      "31/31 [==============================] - 2s 67ms/step - loss: 0.2116 - accuracy: 0.9299 - val_loss: 2.3689 - val_accuracy: 0.4564\n",
      "Epoch 36/50\n",
      "31/31 [==============================] - 2s 67ms/step - loss: 0.1685 - accuracy: 0.9371 - val_loss: 3.2131 - val_accuracy: 0.3412\n",
      "Epoch 37/50\n",
      "31/31 [==============================] - 2s 66ms/step - loss: 0.2956 - accuracy: 0.8835 - val_loss: 2.2813 - val_accuracy: 0.5065\n",
      "Epoch 38/50\n",
      "31/31 [==============================] - 2s 65ms/step - loss: 0.1290 - accuracy: 0.9536 - val_loss: 2.0213 - val_accuracy: 0.5076\n",
      "Epoch 39/50\n",
      "31/31 [==============================] - 2s 65ms/step - loss: 0.3442 - accuracy: 0.8598 - val_loss: 2.5477 - val_accuracy: 0.4289\n",
      "Epoch 40/50\n",
      "31/31 [==============================] - 2s 69ms/step - loss: 0.1802 - accuracy: 0.9278 - val_loss: 2.6654 - val_accuracy: 0.4883\n",
      "Epoch 41/50\n",
      "31/31 [==============================] - 2s 67ms/step - loss: 0.1825 - accuracy: 0.9299 - val_loss: 3.0399 - val_accuracy: 0.4426\n",
      "Epoch 42/50\n",
      "31/31 [==============================] - 2s 69ms/step - loss: 0.3494 - accuracy: 0.8722 - val_loss: 2.1946 - val_accuracy: 0.4653\n",
      "Epoch 43/50\n",
      "31/31 [==============================] - 2s 66ms/step - loss: 0.2671 - accuracy: 0.9021 - val_loss: 2.2273 - val_accuracy: 0.5058\n",
      "Epoch 44/50\n",
      "31/31 [==============================] - 2s 66ms/step - loss: 0.1640 - accuracy: 0.9412 - val_loss: 2.3178 - val_accuracy: 0.4656\n",
      "Epoch 45/50\n",
      "31/31 [==============================] - 2s 66ms/step - loss: 0.1369 - accuracy: 0.9340 - val_loss: 2.5061 - val_accuracy: 0.4948\n",
      "Epoch 46/50\n",
      "31/31 [==============================] - 2s 66ms/step - loss: 0.1923 - accuracy: 0.9155 - val_loss: 1.9399 - val_accuracy: 0.5206\n",
      "Epoch 47/50\n",
      "31/31 [==============================] - 2s 65ms/step - loss: 0.1824 - accuracy: 0.9227 - val_loss: 3.0123 - val_accuracy: 0.4588\n",
      "Epoch 48/50\n",
      "31/31 [==============================] - 2s 66ms/step - loss: 0.1864 - accuracy: 0.9289 - val_loss: 2.4772 - val_accuracy: 0.4787\n",
      "Epoch 49/50\n",
      "31/31 [==============================] - 2s 66ms/step - loss: 0.1599 - accuracy: 0.9361 - val_loss: 2.3705 - val_accuracy: 0.4828\n",
      "Epoch 50/50\n",
      "31/31 [==============================] - 2s 67ms/step - loss: 0.2530 - accuracy: 0.8948 - val_loss: 2.4083 - val_accuracy: 0.4973\n"
     ]
    }
   ],
   "source": [
    "opt=tf.keras.optimizers.Adam(learning_rate=0.001)\n",
    "model.compile(optimizer=opt, loss='categorical_crossentropy', metrics=['accuracy'])\n",
    "history = model.fit(x_train, y_train, batch_size=32, epochs=50,\n",
    "                   validation_data=(x_val, y_val))"
   ]
  },
  {
   "cell_type": "markdown",
   "metadata": {
    "id": "469OcqJVfvAg"
   },
   "source": [
    "# Making Predictions on Test Data"
   ]
  },
  {
   "cell_type": "code",
   "execution_count": 124,
   "metadata": {
    "id": "SdDry18MGu4l"
   },
   "outputs": [],
   "source": [
    "x_test = np.array(test_arr)/255\n",
    "x_test=np.expand_dims(x_test,axis=2)"
   ]
  },
  {
   "cell_type": "code",
   "execution_count": 125,
   "metadata": {
    "colab": {
     "base_uri": "https://localhost:8080/",
     "height": 0
    },
    "id": "8j2BHgtOG0N9",
    "outputId": "d16f1c02-2eed-44a3-dde2-17d3842ada3e"
   },
   "outputs": [
    {
     "data": {
      "text/plain": [
       "(1940, 9216, 1)"
      ]
     },
     "execution_count": 125,
     "metadata": {},
     "output_type": "execute_result"
    }
   ],
   "source": [
    "x_test.shape"
   ]
  },
  {
   "cell_type": "code",
   "execution_count": 126,
   "metadata": {
    "id": "M9hIlsu5MOYa"
   },
   "outputs": [],
   "source": [
    "predictions = model.predict(x_test)\n",
    "predictions_label = np.argmax(predictions,axis=-1)\n",
    "predictions_class = label_encoder.inverse_transform(predictions_label) "
   ]
  },
  {
   "cell_type": "code",
   "execution_count": 127,
   "metadata": {
    "colab": {
     "base_uri": "https://localhost:8080/",
     "height": 0
    },
    "id": "Mf8yLKXDHS4L",
    "outputId": "d0e7c48b-7547-43fb-8fec-facdbee1b5b6"
   },
   "outputs": [
    {
     "name": "stdout",
     "output_type": "stream",
     "text": [
      "['airplane' 'human' 'airplane' ... 'airplane' 'truck' 'car']\n"
     ]
    }
   ],
   "source": [
    "print(predictions_class)"
   ]
  },
  {
   "cell_type": "code",
   "execution_count": 128,
   "metadata": {
    "colab": {
     "base_uri": "https://localhost:8080/",
     "height": 423
    },
    "id": "zIAaG6kNIU3A",
    "outputId": "7585c581-46aa-4927-9607-ea8b26b8b84c"
   },
   "outputs": [
    {
     "data": {
      "text/html": [
       "\n",
       "  <div id=\"df-6e121434-44d8-4bfa-a497-46e1ab09e8f9\">\n",
       "    <div class=\"colab-df-container\">\n",
       "      <div>\n",
       "<style scoped>\n",
       "    .dataframe tbody tr th:only-of-type {\n",
       "        vertical-align: middle;\n",
       "    }\n",
       "\n",
       "    .dataframe tbody tr th {\n",
       "        vertical-align: top;\n",
       "    }\n",
       "\n",
       "    .dataframe thead th {\n",
       "        text-align: right;\n",
       "    }\n",
       "</style>\n",
       "<table border=\"1\" class=\"dataframe\">\n",
       "  <thead>\n",
       "    <tr style=\"text-align: right;\">\n",
       "      <th></th>\n",
       "      <th>file_name</th>\n",
       "      <th>Label</th>\n",
       "    </tr>\n",
       "  </thead>\n",
       "  <tbody>\n",
       "    <tr>\n",
       "      <th>0</th>\n",
       "      <td>drive/MyDrive/Colab Notebooks/Test_data/Test/0...</td>\n",
       "      <td>airplane</td>\n",
       "    </tr>\n",
       "    <tr>\n",
       "      <th>1</th>\n",
       "      <td>drive/MyDrive/Colab Notebooks/Test_data/Test/0...</td>\n",
       "      <td>human</td>\n",
       "    </tr>\n",
       "    <tr>\n",
       "      <th>2</th>\n",
       "      <td>drive/MyDrive/Colab Notebooks/Test_data/Test/0...</td>\n",
       "      <td>airplane</td>\n",
       "    </tr>\n",
       "    <tr>\n",
       "      <th>3</th>\n",
       "      <td>drive/MyDrive/Colab Notebooks/Test_data/Test/0...</td>\n",
       "      <td>car</td>\n",
       "    </tr>\n",
       "    <tr>\n",
       "      <th>4</th>\n",
       "      <td>drive/MyDrive/Colab Notebooks/Test_data/Test/0...</td>\n",
       "      <td>car</td>\n",
       "    </tr>\n",
       "    <tr>\n",
       "      <th>...</th>\n",
       "      <td>...</td>\n",
       "      <td>...</td>\n",
       "    </tr>\n",
       "    <tr>\n",
       "      <th>1935</th>\n",
       "      <td>drive/MyDrive/Colab Notebooks/Test_data/Test/0...</td>\n",
       "      <td>airplane</td>\n",
       "    </tr>\n",
       "    <tr>\n",
       "      <th>1936</th>\n",
       "      <td>drive/MyDrive/Colab Notebooks/Test_data/Test/0...</td>\n",
       "      <td>human</td>\n",
       "    </tr>\n",
       "    <tr>\n",
       "      <th>1937</th>\n",
       "      <td>drive/MyDrive/Colab Notebooks/Test_data/Test/0...</td>\n",
       "      <td>airplane</td>\n",
       "    </tr>\n",
       "    <tr>\n",
       "      <th>1938</th>\n",
       "      <td>drive/MyDrive/Colab Notebooks/Test_data/Test/0...</td>\n",
       "      <td>truck</td>\n",
       "    </tr>\n",
       "    <tr>\n",
       "      <th>1939</th>\n",
       "      <td>drive/MyDrive/Colab Notebooks/Test_data/Test/0...</td>\n",
       "      <td>car</td>\n",
       "    </tr>\n",
       "  </tbody>\n",
       "</table>\n",
       "<p>1940 rows × 2 columns</p>\n",
       "</div>\n",
       "      <button class=\"colab-df-convert\" onclick=\"convertToInteractive('df-6e121434-44d8-4bfa-a497-46e1ab09e8f9')\"\n",
       "              title=\"Convert this dataframe to an interactive table.\"\n",
       "              style=\"display:none;\">\n",
       "        \n",
       "  <svg xmlns=\"http://www.w3.org/2000/svg\" height=\"24px\"viewBox=\"0 0 24 24\"\n",
       "       width=\"24px\">\n",
       "    <path d=\"M0 0h24v24H0V0z\" fill=\"none\"/>\n",
       "    <path d=\"M18.56 5.44l.94 2.06.94-2.06 2.06-.94-2.06-.94-.94-2.06-.94 2.06-2.06.94zm-11 1L8.5 8.5l.94-2.06 2.06-.94-2.06-.94L8.5 2.5l-.94 2.06-2.06.94zm10 10l.94 2.06.94-2.06 2.06-.94-2.06-.94-.94-2.06-.94 2.06-2.06.94z\"/><path d=\"M17.41 7.96l-1.37-1.37c-.4-.4-.92-.59-1.43-.59-.52 0-1.04.2-1.43.59L10.3 9.45l-7.72 7.72c-.78.78-.78 2.05 0 2.83L4 21.41c.39.39.9.59 1.41.59.51 0 1.02-.2 1.41-.59l7.78-7.78 2.81-2.81c.8-.78.8-2.07 0-2.86zM5.41 20L4 18.59l7.72-7.72 1.47 1.35L5.41 20z\"/>\n",
       "  </svg>\n",
       "      </button>\n",
       "      \n",
       "  <style>\n",
       "    .colab-df-container {\n",
       "      display:flex;\n",
       "      flex-wrap:wrap;\n",
       "      gap: 12px;\n",
       "    }\n",
       "\n",
       "    .colab-df-convert {\n",
       "      background-color: #E8F0FE;\n",
       "      border: none;\n",
       "      border-radius: 50%;\n",
       "      cursor: pointer;\n",
       "      display: none;\n",
       "      fill: #1967D2;\n",
       "      height: 32px;\n",
       "      padding: 0 0 0 0;\n",
       "      width: 32px;\n",
       "    }\n",
       "\n",
       "    .colab-df-convert:hover {\n",
       "      background-color: #E2EBFA;\n",
       "      box-shadow: 0px 1px 2px rgba(60, 64, 67, 0.3), 0px 1px 3px 1px rgba(60, 64, 67, 0.15);\n",
       "      fill: #174EA6;\n",
       "    }\n",
       "\n",
       "    [theme=dark] .colab-df-convert {\n",
       "      background-color: #3B4455;\n",
       "      fill: #D2E3FC;\n",
       "    }\n",
       "\n",
       "    [theme=dark] .colab-df-convert:hover {\n",
       "      background-color: #434B5C;\n",
       "      box-shadow: 0px 1px 3px 1px rgba(0, 0, 0, 0.15);\n",
       "      filter: drop-shadow(0px 1px 2px rgba(0, 0, 0, 0.3));\n",
       "      fill: #FFFFFF;\n",
       "    }\n",
       "  </style>\n",
       "\n",
       "      <script>\n",
       "        const buttonEl =\n",
       "          document.querySelector('#df-6e121434-44d8-4bfa-a497-46e1ab09e8f9 button.colab-df-convert');\n",
       "        buttonEl.style.display =\n",
       "          google.colab.kernel.accessAllowed ? 'block' : 'none';\n",
       "\n",
       "        async function convertToInteractive(key) {\n",
       "          const element = document.querySelector('#df-6e121434-44d8-4bfa-a497-46e1ab09e8f9');\n",
       "          const dataTable =\n",
       "            await google.colab.kernel.invokeFunction('convertToInteractive',\n",
       "                                                     [key], {});\n",
       "          if (!dataTable) return;\n",
       "\n",
       "          const docLinkHtml = 'Like what you see? Visit the ' +\n",
       "            '<a target=\"_blank\" href=https://colab.research.google.com/notebooks/data_table.ipynb>data table notebook</a>'\n",
       "            + ' to learn more about interactive tables.';\n",
       "          element.innerHTML = '';\n",
       "          dataTable['output_type'] = 'display_data';\n",
       "          await google.colab.output.renderOutput(dataTable, element);\n",
       "          const docLink = document.createElement('div');\n",
       "          docLink.innerHTML = docLinkHtml;\n",
       "          element.appendChild(docLink);\n",
       "        }\n",
       "      </script>\n",
       "    </div>\n",
       "  </div>\n",
       "  "
      ],
      "text/plain": [
       "                                              file_name     Label\n",
       "0     drive/MyDrive/Colab Notebooks/Test_data/Test/0...  airplane\n",
       "1     drive/MyDrive/Colab Notebooks/Test_data/Test/0...     human\n",
       "2     drive/MyDrive/Colab Notebooks/Test_data/Test/0...  airplane\n",
       "3     drive/MyDrive/Colab Notebooks/Test_data/Test/0...       car\n",
       "4     drive/MyDrive/Colab Notebooks/Test_data/Test/0...       car\n",
       "...                                                 ...       ...\n",
       "1935  drive/MyDrive/Colab Notebooks/Test_data/Test/0...  airplane\n",
       "1936  drive/MyDrive/Colab Notebooks/Test_data/Test/0...     human\n",
       "1937  drive/MyDrive/Colab Notebooks/Test_data/Test/0...  airplane\n",
       "1938  drive/MyDrive/Colab Notebooks/Test_data/Test/0...     truck\n",
       "1939  drive/MyDrive/Colab Notebooks/Test_data/Test/0...       car\n",
       "\n",
       "[1940 rows x 2 columns]"
      ]
     },
     "execution_count": 128,
     "metadata": {},
     "output_type": "execute_result"
    }
   ],
   "source": [
    "path='drive/MyDrive/Colab Notebooks/Test_data/Test'\n",
    "filename=[]\n",
    "file_names = os.listdir(path) \n",
    "for i in range(len(file_names)):\n",
    "  filename.append(path+'/'+file_names[i])\n",
    "\n",
    "# make a dataframe of files\n",
    "test_df1= pd.DataFrame()\n",
    "test_df1['file_name']= filename\n",
    "label_list = predictions_class.tolist()\n",
    "test_df1['Label'] = pd.DataFrame(label_list)\n",
    "test_df1"
   ]
  },
  {
   "cell_type": "code",
   "execution_count": 70,
   "metadata": {
    "id": "F-IL1He9Kxle"
   },
   "outputs": [],
   "source": [
    "test_df1.to_csv('my_submission.csv')"
   ]
  },
  {
   "cell_type": "markdown",
   "metadata": {
    "id": "Yh67h-12OyHc"
   },
   "source": [
    "# Confusion Matrix and Classification Report on Training data"
   ]
  },
  {
   "cell_type": "code",
   "execution_count": 130,
   "metadata": {
    "id": "W2m_R7fzN_AV"
   },
   "outputs": [],
   "source": [
    "from sklearn.metrics import confusion_matrix\n",
    "predict_train = model.predict(x_train)\n",
    "y_train_new=np.argmax(y_train, axis=1)\n",
    "predict_train=np.argmax(predict_train, axis=1)\n",
    "train_confusion_mat = confusion_matrix(y_train_new,predict_train)"
   ]
  },
  {
   "cell_type": "code",
   "execution_count": 132,
   "metadata": {
    "id": "a3ftL-npPVG2"
   },
   "outputs": [],
   "source": [
    "classes = ['airplane', 'animal', 'car', 'human', 'truck']\n",
    "train_confusion_mat = np.column_stack((classes , train_confusion_mat))"
   ]
  },
  {
   "cell_type": "code",
   "execution_count": 137,
   "metadata": {
    "colab": {
     "base_uri": "https://localhost:8080/",
     "height": 206
    },
    "id": "2AuUxipfQxqV",
    "outputId": "65b33e6e-c3cb-4ed5-b4be-32193ab7f129"
   },
   "outputs": [
    {
     "data": {
      "text/html": [
       "\n",
       "  <div id=\"df-aaa0782f-37a1-4520-a340-f195d38a0335\">\n",
       "    <div class=\"colab-df-container\">\n",
       "      <div>\n",
       "<style scoped>\n",
       "    .dataframe tbody tr th:only-of-type {\n",
       "        vertical-align: middle;\n",
       "    }\n",
       "\n",
       "    .dataframe tbody tr th {\n",
       "        vertical-align: top;\n",
       "    }\n",
       "\n",
       "    .dataframe thead th {\n",
       "        text-align: right;\n",
       "    }\n",
       "</style>\n",
       "<table border=\"1\" class=\"dataframe\">\n",
       "  <thead>\n",
       "    <tr style=\"text-align: right;\">\n",
       "      <th></th>\n",
       "      <th>classes</th>\n",
       "      <th>airplane</th>\n",
       "      <th>animal</th>\n",
       "      <th>car</th>\n",
       "      <th>human</th>\n",
       "      <th>truck</th>\n",
       "    </tr>\n",
       "  </thead>\n",
       "  <tbody>\n",
       "    <tr>\n",
       "      <th>0</th>\n",
       "      <td>airplane</td>\n",
       "      <td>193</td>\n",
       "      <td>1</td>\n",
       "      <td>0</td>\n",
       "      <td>0</td>\n",
       "      <td>0</td>\n",
       "    </tr>\n",
       "    <tr>\n",
       "      <th>1</th>\n",
       "      <td>animal</td>\n",
       "      <td>4</td>\n",
       "      <td>184</td>\n",
       "      <td>0</td>\n",
       "      <td>6</td>\n",
       "      <td>0</td>\n",
       "    </tr>\n",
       "    <tr>\n",
       "      <th>2</th>\n",
       "      <td>car</td>\n",
       "      <td>0</td>\n",
       "      <td>0</td>\n",
       "      <td>193</td>\n",
       "      <td>0</td>\n",
       "      <td>1</td>\n",
       "    </tr>\n",
       "    <tr>\n",
       "      <th>3</th>\n",
       "      <td>human</td>\n",
       "      <td>0</td>\n",
       "      <td>0</td>\n",
       "      <td>0</td>\n",
       "      <td>194</td>\n",
       "      <td>0</td>\n",
       "    </tr>\n",
       "    <tr>\n",
       "      <th>4</th>\n",
       "      <td>truck</td>\n",
       "      <td>0</td>\n",
       "      <td>0</td>\n",
       "      <td>15</td>\n",
       "      <td>0</td>\n",
       "      <td>179</td>\n",
       "    </tr>\n",
       "  </tbody>\n",
       "</table>\n",
       "</div>\n",
       "      <button class=\"colab-df-convert\" onclick=\"convertToInteractive('df-aaa0782f-37a1-4520-a340-f195d38a0335')\"\n",
       "              title=\"Convert this dataframe to an interactive table.\"\n",
       "              style=\"display:none;\">\n",
       "        \n",
       "  <svg xmlns=\"http://www.w3.org/2000/svg\" height=\"24px\"viewBox=\"0 0 24 24\"\n",
       "       width=\"24px\">\n",
       "    <path d=\"M0 0h24v24H0V0z\" fill=\"none\"/>\n",
       "    <path d=\"M18.56 5.44l.94 2.06.94-2.06 2.06-.94-2.06-.94-.94-2.06-.94 2.06-2.06.94zm-11 1L8.5 8.5l.94-2.06 2.06-.94-2.06-.94L8.5 2.5l-.94 2.06-2.06.94zm10 10l.94 2.06.94-2.06 2.06-.94-2.06-.94-.94-2.06-.94 2.06-2.06.94z\"/><path d=\"M17.41 7.96l-1.37-1.37c-.4-.4-.92-.59-1.43-.59-.52 0-1.04.2-1.43.59L10.3 9.45l-7.72 7.72c-.78.78-.78 2.05 0 2.83L4 21.41c.39.39.9.59 1.41.59.51 0 1.02-.2 1.41-.59l7.78-7.78 2.81-2.81c.8-.78.8-2.07 0-2.86zM5.41 20L4 18.59l7.72-7.72 1.47 1.35L5.41 20z\"/>\n",
       "  </svg>\n",
       "      </button>\n",
       "      \n",
       "  <style>\n",
       "    .colab-df-container {\n",
       "      display:flex;\n",
       "      flex-wrap:wrap;\n",
       "      gap: 12px;\n",
       "    }\n",
       "\n",
       "    .colab-df-convert {\n",
       "      background-color: #E8F0FE;\n",
       "      border: none;\n",
       "      border-radius: 50%;\n",
       "      cursor: pointer;\n",
       "      display: none;\n",
       "      fill: #1967D2;\n",
       "      height: 32px;\n",
       "      padding: 0 0 0 0;\n",
       "      width: 32px;\n",
       "    }\n",
       "\n",
       "    .colab-df-convert:hover {\n",
       "      background-color: #E2EBFA;\n",
       "      box-shadow: 0px 1px 2px rgba(60, 64, 67, 0.3), 0px 1px 3px 1px rgba(60, 64, 67, 0.15);\n",
       "      fill: #174EA6;\n",
       "    }\n",
       "\n",
       "    [theme=dark] .colab-df-convert {\n",
       "      background-color: #3B4455;\n",
       "      fill: #D2E3FC;\n",
       "    }\n",
       "\n",
       "    [theme=dark] .colab-df-convert:hover {\n",
       "      background-color: #434B5C;\n",
       "      box-shadow: 0px 1px 3px 1px rgba(0, 0, 0, 0.15);\n",
       "      filter: drop-shadow(0px 1px 2px rgba(0, 0, 0, 0.3));\n",
       "      fill: #FFFFFF;\n",
       "    }\n",
       "  </style>\n",
       "\n",
       "      <script>\n",
       "        const buttonEl =\n",
       "          document.querySelector('#df-aaa0782f-37a1-4520-a340-f195d38a0335 button.colab-df-convert');\n",
       "        buttonEl.style.display =\n",
       "          google.colab.kernel.accessAllowed ? 'block' : 'none';\n",
       "\n",
       "        async function convertToInteractive(key) {\n",
       "          const element = document.querySelector('#df-aaa0782f-37a1-4520-a340-f195d38a0335');\n",
       "          const dataTable =\n",
       "            await google.colab.kernel.invokeFunction('convertToInteractive',\n",
       "                                                     [key], {});\n",
       "          if (!dataTable) return;\n",
       "\n",
       "          const docLinkHtml = 'Like what you see? Visit the ' +\n",
       "            '<a target=\"_blank\" href=https://colab.research.google.com/notebooks/data_table.ipynb>data table notebook</a>'\n",
       "            + ' to learn more about interactive tables.';\n",
       "          element.innerHTML = '';\n",
       "          dataTable['output_type'] = 'display_data';\n",
       "          await google.colab.output.renderOutput(dataTable, element);\n",
       "          const docLink = document.createElement('div');\n",
       "          docLink.innerHTML = docLinkHtml;\n",
       "          element.appendChild(docLink);\n",
       "        }\n",
       "      </script>\n",
       "    </div>\n",
       "  </div>\n",
       "  "
      ],
      "text/plain": [
       "    classes airplane animal  car human truck\n",
       "0  airplane      193      1    0     0     0\n",
       "1    animal        4    184    0     6     0\n",
       "2       car        0      0  193     0     1\n",
       "3     human        0      0    0   194     0\n",
       "4     truck        0      0   15     0   179"
      ]
     },
     "execution_count": 137,
     "metadata": {},
     "output_type": "execute_result"
    }
   ],
   "source": [
    "classes = ['classes','airplane', 'animal', 'car', 'human', 'truck']\n",
    "train_confusion_mat_df= pd.DataFrame(train_confusion_mat, columns=classes)\n",
    "train_confusion_mat_df"
   ]
  },
  {
   "cell_type": "code",
   "execution_count": 150,
   "metadata": {
    "colab": {
     "base_uri": "https://localhost:8080/",
     "height": 0
    },
    "id": "WhgDxpIlRR4C",
    "outputId": "a3403db3-61c0-44ad-a2b1-704600d5f66b"
   },
   "outputs": [
    {
     "name": "stdout",
     "output_type": "stream",
     "text": [
      "              precision    recall  f1-score   support\n",
      "\n",
      "    airplane       0.98      0.99      0.99       194\n",
      "      animal       0.99      0.95      0.97       194\n",
      "         car       0.93      0.99      0.96       194\n",
      "       human       0.97      1.00      0.98       194\n",
      "       truck       0.99      0.92      0.96       194\n",
      "\n",
      "    accuracy                           0.97       970\n",
      "   macro avg       0.97      0.97      0.97       970\n",
      "weighted avg       0.97      0.97      0.97       970\n",
      "\n"
     ]
    }
   ],
   "source": [
    "from sklearn.metrics import classification_report\n",
    "print(classification_report(y_train_new,predict_train,target_names=['airplane', 'animal', 'car', 'human', 'truck']))"
   ]
  },
  {
   "cell_type": "markdown",
   "metadata": {
    "id": "th7SRYR3bqKU"
   },
   "source": [
    "# Confusion Matrix and Classification report on Validation Data"
   ]
  },
  {
   "cell_type": "code",
   "execution_count": 151,
   "metadata": {
    "id": "eRhJ-BnbXb7x"
   },
   "outputs": [],
   "source": [
    "from sklearn.metrics import confusion_matrix\n",
    "predict_val = model.predict(x_val)\n",
    "y_val_new=np.argmax(y_val, axis=1)\n",
    "predict_val=np.argmax(predict_val, axis=1)\n",
    "val_confusion_mat = confusion_matrix(y_val_new,predict_val)"
   ]
  },
  {
   "cell_type": "code",
   "execution_count": 152,
   "metadata": {
    "id": "WQFUh_rNcOGD"
   },
   "outputs": [],
   "source": [
    "classes = ['airplane', 'animal', 'car', 'human', 'truck']\n",
    "val_confusion_mat = np.column_stack((classes , val_confusion_mat))"
   ]
  },
  {
   "cell_type": "code",
   "execution_count": 153,
   "metadata": {
    "colab": {
     "base_uri": "https://localhost:8080/",
     "height": 206
    },
    "id": "J3J5lCEQcQu9",
    "outputId": "0d14a142-c8d4-4550-e4be-5244aac607d7"
   },
   "outputs": [
    {
     "data": {
      "text/html": [
       "\n",
       "  <div id=\"df-2752d742-5b6b-4279-81c2-115de0eaab97\">\n",
       "    <div class=\"colab-df-container\">\n",
       "      <div>\n",
       "<style scoped>\n",
       "    .dataframe tbody tr th:only-of-type {\n",
       "        vertical-align: middle;\n",
       "    }\n",
       "\n",
       "    .dataframe tbody tr th {\n",
       "        vertical-align: top;\n",
       "    }\n",
       "\n",
       "    .dataframe thead th {\n",
       "        text-align: right;\n",
       "    }\n",
       "</style>\n",
       "<table border=\"1\" class=\"dataframe\">\n",
       "  <thead>\n",
       "    <tr style=\"text-align: right;\">\n",
       "      <th></th>\n",
       "      <th>classes</th>\n",
       "      <th>airplane</th>\n",
       "      <th>animal</th>\n",
       "      <th>car</th>\n",
       "      <th>human</th>\n",
       "      <th>truck</th>\n",
       "    </tr>\n",
       "  </thead>\n",
       "  <tbody>\n",
       "    <tr>\n",
       "      <th>0</th>\n",
       "      <td>airplane</td>\n",
       "      <td>143</td>\n",
       "      <td>0</td>\n",
       "      <td>427</td>\n",
       "      <td>5</td>\n",
       "      <td>7</td>\n",
       "    </tr>\n",
       "    <tr>\n",
       "      <th>1</th>\n",
       "      <td>animal</td>\n",
       "      <td>143</td>\n",
       "      <td>0</td>\n",
       "      <td>427</td>\n",
       "      <td>5</td>\n",
       "      <td>7</td>\n",
       "    </tr>\n",
       "    <tr>\n",
       "      <th>2</th>\n",
       "      <td>car</td>\n",
       "      <td>78</td>\n",
       "      <td>7</td>\n",
       "      <td>467</td>\n",
       "      <td>20</td>\n",
       "      <td>10</td>\n",
       "    </tr>\n",
       "    <tr>\n",
       "      <th>3</th>\n",
       "      <td>human</td>\n",
       "      <td>60</td>\n",
       "      <td>6</td>\n",
       "      <td>4</td>\n",
       "      <td>512</td>\n",
       "      <td>0</td>\n",
       "    </tr>\n",
       "    <tr>\n",
       "      <th>4</th>\n",
       "      <td>truck</td>\n",
       "      <td>5</td>\n",
       "      <td>1</td>\n",
       "      <td>251</td>\n",
       "      <td>0</td>\n",
       "      <td>325</td>\n",
       "    </tr>\n",
       "  </tbody>\n",
       "</table>\n",
       "</div>\n",
       "      <button class=\"colab-df-convert\" onclick=\"convertToInteractive('df-2752d742-5b6b-4279-81c2-115de0eaab97')\"\n",
       "              title=\"Convert this dataframe to an interactive table.\"\n",
       "              style=\"display:none;\">\n",
       "        \n",
       "  <svg xmlns=\"http://www.w3.org/2000/svg\" height=\"24px\"viewBox=\"0 0 24 24\"\n",
       "       width=\"24px\">\n",
       "    <path d=\"M0 0h24v24H0V0z\" fill=\"none\"/>\n",
       "    <path d=\"M18.56 5.44l.94 2.06.94-2.06 2.06-.94-2.06-.94-.94-2.06-.94 2.06-2.06.94zm-11 1L8.5 8.5l.94-2.06 2.06-.94-2.06-.94L8.5 2.5l-.94 2.06-2.06.94zm10 10l.94 2.06.94-2.06 2.06-.94-2.06-.94-.94-2.06-.94 2.06-2.06.94z\"/><path d=\"M17.41 7.96l-1.37-1.37c-.4-.4-.92-.59-1.43-.59-.52 0-1.04.2-1.43.59L10.3 9.45l-7.72 7.72c-.78.78-.78 2.05 0 2.83L4 21.41c.39.39.9.59 1.41.59.51 0 1.02-.2 1.41-.59l7.78-7.78 2.81-2.81c.8-.78.8-2.07 0-2.86zM5.41 20L4 18.59l7.72-7.72 1.47 1.35L5.41 20z\"/>\n",
       "  </svg>\n",
       "      </button>\n",
       "      \n",
       "  <style>\n",
       "    .colab-df-container {\n",
       "      display:flex;\n",
       "      flex-wrap:wrap;\n",
       "      gap: 12px;\n",
       "    }\n",
       "\n",
       "    .colab-df-convert {\n",
       "      background-color: #E8F0FE;\n",
       "      border: none;\n",
       "      border-radius: 50%;\n",
       "      cursor: pointer;\n",
       "      display: none;\n",
       "      fill: #1967D2;\n",
       "      height: 32px;\n",
       "      padding: 0 0 0 0;\n",
       "      width: 32px;\n",
       "    }\n",
       "\n",
       "    .colab-df-convert:hover {\n",
       "      background-color: #E2EBFA;\n",
       "      box-shadow: 0px 1px 2px rgba(60, 64, 67, 0.3), 0px 1px 3px 1px rgba(60, 64, 67, 0.15);\n",
       "      fill: #174EA6;\n",
       "    }\n",
       "\n",
       "    [theme=dark] .colab-df-convert {\n",
       "      background-color: #3B4455;\n",
       "      fill: #D2E3FC;\n",
       "    }\n",
       "\n",
       "    [theme=dark] .colab-df-convert:hover {\n",
       "      background-color: #434B5C;\n",
       "      box-shadow: 0px 1px 3px 1px rgba(0, 0, 0, 0.15);\n",
       "      filter: drop-shadow(0px 1px 2px rgba(0, 0, 0, 0.3));\n",
       "      fill: #FFFFFF;\n",
       "    }\n",
       "  </style>\n",
       "\n",
       "      <script>\n",
       "        const buttonEl =\n",
       "          document.querySelector('#df-2752d742-5b6b-4279-81c2-115de0eaab97 button.colab-df-convert');\n",
       "        buttonEl.style.display =\n",
       "          google.colab.kernel.accessAllowed ? 'block' : 'none';\n",
       "\n",
       "        async function convertToInteractive(key) {\n",
       "          const element = document.querySelector('#df-2752d742-5b6b-4279-81c2-115de0eaab97');\n",
       "          const dataTable =\n",
       "            await google.colab.kernel.invokeFunction('convertToInteractive',\n",
       "                                                     [key], {});\n",
       "          if (!dataTable) return;\n",
       "\n",
       "          const docLinkHtml = 'Like what you see? Visit the ' +\n",
       "            '<a target=\"_blank\" href=https://colab.research.google.com/notebooks/data_table.ipynb>data table notebook</a>'\n",
       "            + ' to learn more about interactive tables.';\n",
       "          element.innerHTML = '';\n",
       "          dataTable['output_type'] = 'display_data';\n",
       "          await google.colab.output.renderOutput(dataTable, element);\n",
       "          const docLink = document.createElement('div');\n",
       "          docLink.innerHTML = docLinkHtml;\n",
       "          element.appendChild(docLink);\n",
       "        }\n",
       "      </script>\n",
       "    </div>\n",
       "  </div>\n",
       "  "
      ],
      "text/plain": [
       "    classes airplane animal  car human truck\n",
       "0  airplane      143      0  427     5     7\n",
       "1    animal      143      0  427     5     7\n",
       "2       car       78      7  467    20    10\n",
       "3     human       60      6    4   512     0\n",
       "4     truck        5      1  251     0   325"
      ]
     },
     "execution_count": 153,
     "metadata": {},
     "output_type": "execute_result"
    }
   ],
   "source": [
    "classes = ['classes','airplane', 'animal', 'car', 'human', 'truck']\n",
    "val_confusion_mat_df= pd.DataFrame(val_confusion_mat, columns=classes)\n",
    "val_confusion_mat_df"
   ]
  },
  {
   "cell_type": "code",
   "execution_count": 154,
   "metadata": {
    "colab": {
     "base_uri": "https://localhost:8080/",
     "height": 0
    },
    "id": "FXKSstbFdLER",
    "outputId": "f387eb32-ce7d-4fe6-ac22-bec2671f3dbc"
   },
   "outputs": [
    {
     "name": "stdout",
     "output_type": "stream",
     "text": [
      "              precision    recall  f1-score   support\n",
      "\n",
      "    airplane       0.33      0.25      0.28       582\n",
      "      animal       0.00      0.00      0.00       582\n",
      "         car       0.30      0.80      0.43       582\n",
      "       human       0.94      0.88      0.91       582\n",
      "       truck       0.93      0.56      0.70       582\n",
      "\n",
      "    accuracy                           0.50      2910\n",
      "   macro avg       0.50      0.50      0.46      2910\n",
      "weighted avg       0.50      0.50      0.46      2910\n",
      "\n"
     ]
    }
   ],
   "source": [
    "from sklearn.metrics import classification_report\n",
    "print(classification_report(y_val_new,predict_val,target_names=['airplane', 'animal', 'car', 'human', 'truck']))"
   ]
  }
 ],
 "metadata": {
  "accelerator": "TPU",
  "colab": {
   "collapsed_sections": [],
   "name": "ML_challenge_mlp.ipynb",
   "provenance": []
  },
  "kernelspec": {
   "display_name": "Python 3",
   "language": "python",
   "name": "python3"
  },
  "language_info": {
   "codemirror_mode": {
    "name": "ipython",
    "version": 3
   },
   "file_extension": ".py",
   "mimetype": "text/x-python",
   "name": "python",
   "nbconvert_exporter": "python",
   "pygments_lexer": "ipython3",
   "version": "3.8.8"
  }
 },
 "nbformat": 4,
 "nbformat_minor": 1
}
