{
 "cells": [
  {
   "cell_type": "code",
   "execution_count": 39,
   "id": "9d4b8d2a",
   "metadata": {},
   "outputs": [],
   "source": [
    "# import required libraries\n",
    "import numpy as np\n",
    "from scipy import stats\n",
    "import pandas as pd\n",
    "import matplotlib.pyplot as plt\n",
    "import statsmodels.api as sm\n",
    "import warnings\n",
    "warnings.filterwarnings(\"ignore\")\n",
    "%matplotlib inline"
   ]
  },
  {
   "cell_type": "code",
   "execution_count": 40,
   "id": "dc804ed4",
   "metadata": {},
   "outputs": [
    {
     "data": {
      "text/html": [
       "<div>\n",
       "<style scoped>\n",
       "    .dataframe tbody tr th:only-of-type {\n",
       "        vertical-align: middle;\n",
       "    }\n",
       "\n",
       "    .dataframe tbody tr th {\n",
       "        vertical-align: top;\n",
       "    }\n",
       "\n",
       "    .dataframe thead th {\n",
       "        text-align: right;\n",
       "    }\n",
       "</style>\n",
       "<table border=\"1\" class=\"dataframe\">\n",
       "  <thead>\n",
       "    <tr style=\"text-align: right;\">\n",
       "      <th></th>\n",
       "      <th>Date</th>\n",
       "      <th>Symbol</th>\n",
       "      <th>Series</th>\n",
       "      <th>Prev Close</th>\n",
       "      <th>Open</th>\n",
       "      <th>High</th>\n",
       "      <th>Low</th>\n",
       "      <th>Last</th>\n",
       "      <th>Close</th>\n",
       "      <th>VWAP</th>\n",
       "      <th>Volume</th>\n",
       "      <th>Turnover</th>\n",
       "      <th>Trades</th>\n",
       "      <th>Deliverable Volume</th>\n",
       "      <th>%Deliverble</th>\n",
       "    </tr>\n",
       "  </thead>\n",
       "  <tbody>\n",
       "    <tr>\n",
       "      <th>0</th>\n",
       "      <td>2004-08-25</td>\n",
       "      <td>TCS</td>\n",
       "      <td>EQ</td>\n",
       "      <td>850.00</td>\n",
       "      <td>1198.70</td>\n",
       "      <td>1198.70</td>\n",
       "      <td>979.00</td>\n",
       "      <td>985.00</td>\n",
       "      <td>987.95</td>\n",
       "      <td>1008.32</td>\n",
       "      <td>17116372</td>\n",
       "      <td>1.725876e+15</td>\n",
       "      <td>NaN</td>\n",
       "      <td>5206360</td>\n",
       "      <td>0.3042</td>\n",
       "    </tr>\n",
       "    <tr>\n",
       "      <th>1</th>\n",
       "      <td>2004-08-26</td>\n",
       "      <td>TCS</td>\n",
       "      <td>EQ</td>\n",
       "      <td>987.95</td>\n",
       "      <td>992.00</td>\n",
       "      <td>997.00</td>\n",
       "      <td>975.30</td>\n",
       "      <td>976.85</td>\n",
       "      <td>979.00</td>\n",
       "      <td>985.65</td>\n",
       "      <td>5055400</td>\n",
       "      <td>4.982865e+14</td>\n",
       "      <td>NaN</td>\n",
       "      <td>1294899</td>\n",
       "      <td>0.2561</td>\n",
       "    </tr>\n",
       "    <tr>\n",
       "      <th>2</th>\n",
       "      <td>2004-08-27</td>\n",
       "      <td>TCS</td>\n",
       "      <td>EQ</td>\n",
       "      <td>979.00</td>\n",
       "      <td>982.40</td>\n",
       "      <td>982.40</td>\n",
       "      <td>958.55</td>\n",
       "      <td>961.20</td>\n",
       "      <td>962.65</td>\n",
       "      <td>969.94</td>\n",
       "      <td>3830750</td>\n",
       "      <td>3.715586e+14</td>\n",
       "      <td>NaN</td>\n",
       "      <td>976527</td>\n",
       "      <td>0.2549</td>\n",
       "    </tr>\n",
       "    <tr>\n",
       "      <th>3</th>\n",
       "      <td>2004-08-30</td>\n",
       "      <td>TCS</td>\n",
       "      <td>EQ</td>\n",
       "      <td>962.65</td>\n",
       "      <td>969.90</td>\n",
       "      <td>990.00</td>\n",
       "      <td>965.00</td>\n",
       "      <td>986.40</td>\n",
       "      <td>986.75</td>\n",
       "      <td>982.65</td>\n",
       "      <td>3058151</td>\n",
       "      <td>3.005106e+14</td>\n",
       "      <td>NaN</td>\n",
       "      <td>701664</td>\n",
       "      <td>0.2294</td>\n",
       "    </tr>\n",
       "    <tr>\n",
       "      <th>4</th>\n",
       "      <td>2004-08-31</td>\n",
       "      <td>TCS</td>\n",
       "      <td>EQ</td>\n",
       "      <td>986.75</td>\n",
       "      <td>986.50</td>\n",
       "      <td>990.00</td>\n",
       "      <td>976.00</td>\n",
       "      <td>987.80</td>\n",
       "      <td>988.10</td>\n",
       "      <td>982.18</td>\n",
       "      <td>2649332</td>\n",
       "      <td>2.602133e+14</td>\n",
       "      <td>NaN</td>\n",
       "      <td>695234</td>\n",
       "      <td>0.2624</td>\n",
       "    </tr>\n",
       "    <tr>\n",
       "      <th>...</th>\n",
       "      <td>...</td>\n",
       "      <td>...</td>\n",
       "      <td>...</td>\n",
       "      <td>...</td>\n",
       "      <td>...</td>\n",
       "      <td>...</td>\n",
       "      <td>...</td>\n",
       "      <td>...</td>\n",
       "      <td>...</td>\n",
       "      <td>...</td>\n",
       "      <td>...</td>\n",
       "      <td>...</td>\n",
       "      <td>...</td>\n",
       "      <td>...</td>\n",
       "      <td>...</td>\n",
       "    </tr>\n",
       "    <tr>\n",
       "      <th>4134</th>\n",
       "      <td>2021-04-26</td>\n",
       "      <td>TCS</td>\n",
       "      <td>EQ</td>\n",
       "      <td>3109.50</td>\n",
       "      <td>3102.05</td>\n",
       "      <td>3153.00</td>\n",
       "      <td>3088.05</td>\n",
       "      <td>3100.05</td>\n",
       "      <td>3100.80</td>\n",
       "      <td>3122.35</td>\n",
       "      <td>2490260</td>\n",
       "      <td>7.775465e+14</td>\n",
       "      <td>87012.0</td>\n",
       "      <td>1345353</td>\n",
       "      <td>0.5402</td>\n",
       "    </tr>\n",
       "    <tr>\n",
       "      <th>4135</th>\n",
       "      <td>2021-04-27</td>\n",
       "      <td>TCS</td>\n",
       "      <td>EQ</td>\n",
       "      <td>3100.80</td>\n",
       "      <td>3106.00</td>\n",
       "      <td>3136.10</td>\n",
       "      <td>3103.00</td>\n",
       "      <td>3132.75</td>\n",
       "      <td>3132.00</td>\n",
       "      <td>3122.18</td>\n",
       "      <td>1471417</td>\n",
       "      <td>4.594036e+14</td>\n",
       "      <td>97077.0</td>\n",
       "      <td>849767</td>\n",
       "      <td>0.5775</td>\n",
       "    </tr>\n",
       "    <tr>\n",
       "      <th>4136</th>\n",
       "      <td>2021-04-28</td>\n",
       "      <td>TCS</td>\n",
       "      <td>EQ</td>\n",
       "      <td>3132.00</td>\n",
       "      <td>3149.95</td>\n",
       "      <td>3151.00</td>\n",
       "      <td>3112.00</td>\n",
       "      <td>3123.00</td>\n",
       "      <td>3124.10</td>\n",
       "      <td>3125.72</td>\n",
       "      <td>1639037</td>\n",
       "      <td>5.123176e+14</td>\n",
       "      <td>76017.0</td>\n",
       "      <td>847762</td>\n",
       "      <td>0.5172</td>\n",
       "    </tr>\n",
       "    <tr>\n",
       "      <th>4137</th>\n",
       "      <td>2021-04-29</td>\n",
       "      <td>TCS</td>\n",
       "      <td>EQ</td>\n",
       "      <td>3124.10</td>\n",
       "      <td>3145.60</td>\n",
       "      <td>3157.35</td>\n",
       "      <td>3105.50</td>\n",
       "      <td>3114.45</td>\n",
       "      <td>3115.25</td>\n",
       "      <td>3130.83</td>\n",
       "      <td>1621395</td>\n",
       "      <td>5.076306e+14</td>\n",
       "      <td>98275.0</td>\n",
       "      <td>837567</td>\n",
       "      <td>0.5166</td>\n",
       "    </tr>\n",
       "    <tr>\n",
       "      <th>4138</th>\n",
       "      <td>2021-04-30</td>\n",
       "      <td>TCS</td>\n",
       "      <td>EQ</td>\n",
       "      <td>3115.25</td>\n",
       "      <td>3099.00</td>\n",
       "      <td>3132.05</td>\n",
       "      <td>3020.00</td>\n",
       "      <td>3040.00</td>\n",
       "      <td>3035.65</td>\n",
       "      <td>3063.19</td>\n",
       "      <td>3072305</td>\n",
       "      <td>9.411057e+14</td>\n",
       "      <td>157829.0</td>\n",
       "      <td>1942473</td>\n",
       "      <td>0.6323</td>\n",
       "    </tr>\n",
       "  </tbody>\n",
       "</table>\n",
       "<p>4139 rows × 15 columns</p>\n",
       "</div>"
      ],
      "text/plain": [
       "            Date Symbol Series  Prev Close     Open     High      Low  \\\n",
       "0     2004-08-25    TCS     EQ      850.00  1198.70  1198.70   979.00   \n",
       "1     2004-08-26    TCS     EQ      987.95   992.00   997.00   975.30   \n",
       "2     2004-08-27    TCS     EQ      979.00   982.40   982.40   958.55   \n",
       "3     2004-08-30    TCS     EQ      962.65   969.90   990.00   965.00   \n",
       "4     2004-08-31    TCS     EQ      986.75   986.50   990.00   976.00   \n",
       "...          ...    ...    ...         ...      ...      ...      ...   \n",
       "4134  2021-04-26    TCS     EQ     3109.50  3102.05  3153.00  3088.05   \n",
       "4135  2021-04-27    TCS     EQ     3100.80  3106.00  3136.10  3103.00   \n",
       "4136  2021-04-28    TCS     EQ     3132.00  3149.95  3151.00  3112.00   \n",
       "4137  2021-04-29    TCS     EQ     3124.10  3145.60  3157.35  3105.50   \n",
       "4138  2021-04-30    TCS     EQ     3115.25  3099.00  3132.05  3020.00   \n",
       "\n",
       "         Last    Close     VWAP    Volume      Turnover    Trades  \\\n",
       "0      985.00   987.95  1008.32  17116372  1.725876e+15       NaN   \n",
       "1      976.85   979.00   985.65   5055400  4.982865e+14       NaN   \n",
       "2      961.20   962.65   969.94   3830750  3.715586e+14       NaN   \n",
       "3      986.40   986.75   982.65   3058151  3.005106e+14       NaN   \n",
       "4      987.80   988.10   982.18   2649332  2.602133e+14       NaN   \n",
       "...       ...      ...      ...       ...           ...       ...   \n",
       "4134  3100.05  3100.80  3122.35   2490260  7.775465e+14   87012.0   \n",
       "4135  3132.75  3132.00  3122.18   1471417  4.594036e+14   97077.0   \n",
       "4136  3123.00  3124.10  3125.72   1639037  5.123176e+14   76017.0   \n",
       "4137  3114.45  3115.25  3130.83   1621395  5.076306e+14   98275.0   \n",
       "4138  3040.00  3035.65  3063.19   3072305  9.411057e+14  157829.0   \n",
       "\n",
       "      Deliverable Volume  %Deliverble  \n",
       "0                5206360       0.3042  \n",
       "1                1294899       0.2561  \n",
       "2                 976527       0.2549  \n",
       "3                 701664       0.2294  \n",
       "4                 695234       0.2624  \n",
       "...                  ...          ...  \n",
       "4134             1345353       0.5402  \n",
       "4135              849767       0.5775  \n",
       "4136              847762       0.5172  \n",
       "4137              837567       0.5166  \n",
       "4138             1942473       0.6323  \n",
       "\n",
       "[4139 rows x 15 columns]"
      ]
     },
     "execution_count": 40,
     "metadata": {},
     "output_type": "execute_result"
    }
   ],
   "source": [
    "# read the data of the stock\n",
    "df = pd.read_csv('C:\\\\Users\\\\hp\\\\Downloads\\\\Nifty50_Stock_Market_dataset\\\\TCS.csv')\n",
    "df"
   ]
  },
  {
   "cell_type": "code",
   "execution_count": 41,
   "id": "75806832",
   "metadata": {},
   "outputs": [],
   "source": [
    "df1=df[[\"Date\",\"VWAP\"]]"
   ]
  },
  {
   "cell_type": "code",
   "execution_count": 42,
   "id": "26e020b5",
   "metadata": {},
   "outputs": [
    {
     "data": {
      "text/html": [
       "<div>\n",
       "<style scoped>\n",
       "    .dataframe tbody tr th:only-of-type {\n",
       "        vertical-align: middle;\n",
       "    }\n",
       "\n",
       "    .dataframe tbody tr th {\n",
       "        vertical-align: top;\n",
       "    }\n",
       "\n",
       "    .dataframe thead th {\n",
       "        text-align: right;\n",
       "    }\n",
       "</style>\n",
       "<table border=\"1\" class=\"dataframe\">\n",
       "  <thead>\n",
       "    <tr style=\"text-align: right;\">\n",
       "      <th></th>\n",
       "      <th>Date</th>\n",
       "      <th>VWAP</th>\n",
       "    </tr>\n",
       "  </thead>\n",
       "  <tbody>\n",
       "    <tr>\n",
       "      <th>0</th>\n",
       "      <td>2004-08-25</td>\n",
       "      <td>1008.32</td>\n",
       "    </tr>\n",
       "    <tr>\n",
       "      <th>1</th>\n",
       "      <td>2004-08-26</td>\n",
       "      <td>985.65</td>\n",
       "    </tr>\n",
       "    <tr>\n",
       "      <th>2</th>\n",
       "      <td>2004-08-27</td>\n",
       "      <td>969.94</td>\n",
       "    </tr>\n",
       "    <tr>\n",
       "      <th>3</th>\n",
       "      <td>2004-08-30</td>\n",
       "      <td>982.65</td>\n",
       "    </tr>\n",
       "    <tr>\n",
       "      <th>4</th>\n",
       "      <td>2004-08-31</td>\n",
       "      <td>982.18</td>\n",
       "    </tr>\n",
       "  </tbody>\n",
       "</table>\n",
       "</div>"
      ],
      "text/plain": [
       "         Date     VWAP\n",
       "0  2004-08-25  1008.32\n",
       "1  2004-08-26   985.65\n",
       "2  2004-08-27   969.94\n",
       "3  2004-08-30   982.65\n",
       "4  2004-08-31   982.18"
      ]
     },
     "execution_count": 42,
     "metadata": {},
     "output_type": "execute_result"
    }
   ],
   "source": [
    "df1.head()"
   ]
  },
  {
   "cell_type": "code",
   "execution_count": 43,
   "id": "56e97ee4",
   "metadata": {},
   "outputs": [
    {
     "data": {
      "text/html": [
       "<div>\n",
       "<style scoped>\n",
       "    .dataframe tbody tr th:only-of-type {\n",
       "        vertical-align: middle;\n",
       "    }\n",
       "\n",
       "    .dataframe tbody tr th {\n",
       "        vertical-align: top;\n",
       "    }\n",
       "\n",
       "    .dataframe thead th {\n",
       "        text-align: right;\n",
       "    }\n",
       "</style>\n",
       "<table border=\"1\" class=\"dataframe\">\n",
       "  <thead>\n",
       "    <tr style=\"text-align: right;\">\n",
       "      <th></th>\n",
       "      <th>VWAP</th>\n",
       "    </tr>\n",
       "  </thead>\n",
       "  <tbody>\n",
       "    <tr>\n",
       "      <th>count</th>\n",
       "      <td>4139.000000</td>\n",
       "    </tr>\n",
       "    <tr>\n",
       "      <th>mean</th>\n",
       "      <td>1694.618120</td>\n",
       "    </tr>\n",
       "    <tr>\n",
       "      <th>std</th>\n",
       "      <td>723.144157</td>\n",
       "    </tr>\n",
       "    <tr>\n",
       "      <th>min</th>\n",
       "      <td>368.400000</td>\n",
       "    </tr>\n",
       "    <tr>\n",
       "      <th>25%</th>\n",
       "      <td>1105.750000</td>\n",
       "    </tr>\n",
       "    <tr>\n",
       "      <th>50%</th>\n",
       "      <td>1629.420000</td>\n",
       "    </tr>\n",
       "    <tr>\n",
       "      <th>75%</th>\n",
       "      <td>2319.895000</td>\n",
       "    </tr>\n",
       "    <tr>\n",
       "      <th>max</th>\n",
       "      <td>3633.110000</td>\n",
       "    </tr>\n",
       "  </tbody>\n",
       "</table>\n",
       "</div>"
      ],
      "text/plain": [
       "              VWAP\n",
       "count  4139.000000\n",
       "mean   1694.618120\n",
       "std     723.144157\n",
       "min     368.400000\n",
       "25%    1105.750000\n",
       "50%    1629.420000\n",
       "75%    2319.895000\n",
       "max    3633.110000"
      ]
     },
     "execution_count": 43,
     "metadata": {},
     "output_type": "execute_result"
    }
   ],
   "source": [
    "df1.describe()"
   ]
  },
  {
   "cell_type": "code",
   "execution_count": 44,
   "id": "ee0fb3a4",
   "metadata": {},
   "outputs": [
    {
     "data": {
      "text/html": [
       "<div>\n",
       "<style scoped>\n",
       "    .dataframe tbody tr th:only-of-type {\n",
       "        vertical-align: middle;\n",
       "    }\n",
       "\n",
       "    .dataframe tbody tr th {\n",
       "        vertical-align: top;\n",
       "    }\n",
       "\n",
       "    .dataframe thead th {\n",
       "        text-align: right;\n",
       "    }\n",
       "</style>\n",
       "<table border=\"1\" class=\"dataframe\">\n",
       "  <thead>\n",
       "    <tr style=\"text-align: right;\">\n",
       "      <th></th>\n",
       "      <th>VWAP</th>\n",
       "    </tr>\n",
       "    <tr>\n",
       "      <th>Date</th>\n",
       "      <th></th>\n",
       "    </tr>\n",
       "  </thead>\n",
       "  <tbody>\n",
       "    <tr>\n",
       "      <th>2004-08-25</th>\n",
       "      <td>1008.32</td>\n",
       "    </tr>\n",
       "    <tr>\n",
       "      <th>2004-08-26</th>\n",
       "      <td>985.65</td>\n",
       "    </tr>\n",
       "    <tr>\n",
       "      <th>2004-08-27</th>\n",
       "      <td>969.94</td>\n",
       "    </tr>\n",
       "    <tr>\n",
       "      <th>2004-08-30</th>\n",
       "      <td>982.65</td>\n",
       "    </tr>\n",
       "    <tr>\n",
       "      <th>2004-08-31</th>\n",
       "      <td>982.18</td>\n",
       "    </tr>\n",
       "    <tr>\n",
       "      <th>...</th>\n",
       "      <td>...</td>\n",
       "    </tr>\n",
       "    <tr>\n",
       "      <th>2021-04-26</th>\n",
       "      <td>3122.35</td>\n",
       "    </tr>\n",
       "    <tr>\n",
       "      <th>2021-04-27</th>\n",
       "      <td>3122.18</td>\n",
       "    </tr>\n",
       "    <tr>\n",
       "      <th>2021-04-28</th>\n",
       "      <td>3125.72</td>\n",
       "    </tr>\n",
       "    <tr>\n",
       "      <th>2021-04-29</th>\n",
       "      <td>3130.83</td>\n",
       "    </tr>\n",
       "    <tr>\n",
       "      <th>2021-04-30</th>\n",
       "      <td>3063.19</td>\n",
       "    </tr>\n",
       "  </tbody>\n",
       "</table>\n",
       "<p>4139 rows × 1 columns</p>\n",
       "</div>"
      ],
      "text/plain": [
       "               VWAP\n",
       "Date               \n",
       "2004-08-25  1008.32\n",
       "2004-08-26   985.65\n",
       "2004-08-27   969.94\n",
       "2004-08-30   982.65\n",
       "2004-08-31   982.18\n",
       "...             ...\n",
       "2021-04-26  3122.35\n",
       "2021-04-27  3122.18\n",
       "2021-04-28  3125.72\n",
       "2021-04-29  3130.83\n",
       "2021-04-30  3063.19\n",
       "\n",
       "[4139 rows x 1 columns]"
      ]
     },
     "execution_count": 44,
     "metadata": {},
     "output_type": "execute_result"
    }
   ],
   "source": [
    "df1.set_index('Date',inplace=True)\n",
    "price_data=df1\n",
    "df1"
   ]
  },
  {
   "cell_type": "code",
   "execution_count": 46,
   "id": "5c29371e",
   "metadata": {},
   "outputs": [
    {
     "data": {
      "text/plain": [
       "<AxesSubplot:xlabel='Date'>"
      ]
     },
     "execution_count": 46,
     "metadata": {},
     "output_type": "execute_result"
    },
    {
     "data": {
      "image/png": "[encoded data removed]",
      "text/plain": [
       "<Figure size 432x288 with 1 Axes>"
      ]
     },
     "metadata": {
      "needs_background": "light"
     },
     "output_type": "display_data"
    }
   ],
   "source": [
    "df1.plot()"
   ]
  },
  {
   "cell_type": "markdown",
   "id": "26377439",
   "metadata": {},
   "source": [
    "For ARIMA first thing we do is identify if the data is stationary or non – stationary. if data is non-stationary we will try to make them stationary then we will process further.\n",
    "### Adfuller test (Augmented Dickey-Fuller Test)"
   ]
  },
  {
   "cell_type": "code",
   "execution_count": 47,
   "id": "81c7298b",
   "metadata": {},
   "outputs": [],
   "source": [
    "from statsmodels.tsa.stattools import adfuller"
   ]
  },
  {
   "cell_type": "code",
   "execution_count": 48,
   "id": "d99a3dc2",
   "metadata": {},
   "outputs": [
    {
     "name": "stdout",
     "output_type": "stream",
     "text": [
      "ADF Test Statistic : -1.5583531365590606\n",
      "p-value : 0.5044730957330678\n",
      "#Lags Used : 4\n",
      "Number of Observations : 4134\n"
     ]
    }
   ],
   "source": [
    "result=adfuller(df1['VWAP'])\n",
    "labels = ['ADF Test Statistic','p-value','#Lags Used','Number of Observations']\n",
    "for value,label in zip(result,labels):\n",
    "    print(label+' : '+str(value) )"
   ]
  },
  {
   "cell_type": "markdown",
   "id": "e4c2a7a3",
   "metadata": {},
   "source": [
    "Here P-value is 0.5 which is greater than 0.05, which means data is accepting the null hypothesis, which means data is non-stationary."
   ]
  },
  {
   "cell_type": "code",
   "execution_count": 49,
   "id": "93ec38a1",
   "metadata": {},
   "outputs": [],
   "source": [
    "df1['diff'] = df1.diff().dropna()"
   ]
  },
  {
   "cell_type": "code",
   "execution_count": 50,
   "id": "09fd4d70",
   "metadata": {},
   "outputs": [],
   "source": [
    "df1 = df1.dropna()"
   ]
  },
  {
   "cell_type": "code",
   "execution_count": 51,
   "id": "64a64987",
   "metadata": {},
   "outputs": [
    {
     "name": "stdout",
     "output_type": "stream",
     "text": [
      "ADF Test Statistic : -32.46166101905158\n",
      "p-value : 0.0\n",
      "#Lags Used : 3\n",
      "Number of Observations : 4134\n"
     ]
    }
   ],
   "source": [
    "result1=adfuller(df1['diff'])\n",
    "labels = ['ADF Test Statistic','p-value','#Lags Used','Number of Observations']\n",
    "for value,label in zip(result1,labels):\n",
    "    print(label+' : '+str(value) )"
   ]
  },
  {
   "cell_type": "markdown",
   "id": "e7c0136e",
   "metadata": {},
   "source": [
    "Now p-value is less than 0.05 so the data is stationary"
   ]
  },
  {
   "cell_type": "code",
   "execution_count": 52,
   "id": "be7e9aac",
   "metadata": {},
   "outputs": [
    {
     "data": {
      "text/plain": [
       "0.0005101663759529115"
      ]
     },
     "execution_count": 52,
     "metadata": {},
     "output_type": "execute_result"
    }
   ],
   "source": [
    "sm.stats.durbin_watson(df1['VWAP']) # have less correlation"
   ]
  },
  {
   "cell_type": "code",
   "execution_count": 56,
   "id": "c41fa0ed",
   "metadata": {},
   "outputs": [
    {
     "name": "stdout",
     "output_type": "stream",
     "text": [
      "(3310,)\n",
      "(829,)\n"
     ]
    }
   ],
   "source": [
    "train = price_data['VWAP'][:3310]\n",
    "test = price_data['VWAP'][3310:]\n",
    "print(train.shape)\n",
    "print(test.shape)"
   ]
  },
  {
   "cell_type": "markdown",
   "id": "dbba6e72",
   "metadata": {},
   "source": [
    "### Using Auto ARIMA To get p, d, q values"
   ]
  },
  {
   "cell_type": "code",
   "execution_count": 58,
   "id": "0e6872eb",
   "metadata": {},
   "outputs": [],
   "source": [
    "#!pip install --user pmdarima"
   ]
  },
  {
   "cell_type": "code",
   "execution_count": 59,
   "id": "3dd0bee9",
   "metadata": {},
   "outputs": [],
   "source": [
    "import pmdarima as pmd\n",
    "\n",
    "def arimamodel(timeseriesarray):\n",
    "    autoarima_model = pmd.auto_arima(timeseriesarray, \n",
    "                              start_p=1, \n",
    "                              start_q=1,\n",
    "                              test=\"adf\",\n",
    "                              trace=True)\n",
    "    return autoarima_model"
   ]
  },
  {
   "cell_type": "code",
   "execution_count": 60,
   "id": "11b2a2fd",
   "metadata": {},
   "outputs": [
    {
     "name": "stdout",
     "output_type": "stream",
     "text": [
      "Performing stepwise search to minimize aic\n",
      " ARIMA(1,1,1)(0,0,0)[0] intercept   : AIC=31882.759, Time=2.86 sec\n",
      " ARIMA(0,1,0)(0,0,0)[0] intercept   : AIC=31907.213, Time=0.08 sec\n",
      " ARIMA(1,1,0)(0,0,0)[0] intercept   : AIC=31882.527, Time=0.16 sec\n",
      " ARIMA(0,1,1)(0,0,0)[0] intercept   : AIC=31881.250, Time=0.19 sec\n",
      " ARIMA(0,1,0)(0,0,0)[0]             : AIC=31906.035, Time=0.07 sec\n",
      " ARIMA(0,1,2)(0,0,0)[0] intercept   : AIC=31882.357, Time=0.57 sec\n",
      " ARIMA(1,1,2)(0,0,0)[0] intercept   : AIC=31871.396, Time=1.91 sec\n",
      " ARIMA(2,1,2)(0,0,0)[0] intercept   : AIC=31871.595, Time=1.42 sec\n",
      " ARIMA(1,1,3)(0,0,0)[0] intercept   : AIC=31873.860, Time=2.08 sec\n",
      " ARIMA(0,1,3)(0,0,0)[0] intercept   : AIC=31879.533, Time=0.84 sec\n",
      " ARIMA(2,1,1)(0,0,0)[0] intercept   : AIC=31871.171, Time=2.22 sec\n",
      " ARIMA(2,1,0)(0,0,0)[0] intercept   : AIC=31881.372, Time=0.21 sec\n",
      " ARIMA(3,1,1)(0,0,0)[0] intercept   : AIC=31873.000, Time=1.57 sec\n",
      " ARIMA(3,1,0)(0,0,0)[0] intercept   : AIC=31877.085, Time=0.24 sec\n",
      " ARIMA(3,1,2)(0,0,0)[0] intercept   : AIC=31873.583, Time=2.57 sec\n",
      " ARIMA(2,1,1)(0,0,0)[0]             : AIC=31870.530, Time=0.83 sec\n",
      " ARIMA(1,1,1)(0,0,0)[0]             : AIC=31881.450, Time=0.49 sec\n",
      " ARIMA(2,1,0)(0,0,0)[0]             : AIC=31880.099, Time=0.10 sec\n",
      " ARIMA(3,1,1)(0,0,0)[0]             : AIC=31871.917, Time=0.75 sec\n",
      " ARIMA(2,1,2)(0,0,0)[0]             : AIC=31870.449, Time=1.18 sec\n",
      " ARIMA(1,1,2)(0,0,0)[0]             : AIC=31870.779, Time=0.65 sec\n",
      " ARIMA(3,1,2)(0,0,0)[0]             : AIC=31872.433, Time=0.90 sec\n",
      " ARIMA(2,1,3)(0,0,0)[0]             : AIC=31872.430, Time=0.95 sec\n",
      " ARIMA(1,1,3)(0,0,0)[0]             : AIC=31872.828, Time=0.71 sec\n",
      " ARIMA(3,1,3)(0,0,0)[0]             : AIC=31871.218, Time=1.75 sec\n",
      "\n",
      "Best model:  ARIMA(2,1,2)(0,0,0)[0]          \n",
      "Total fit time: 25.329 seconds\n"
     ]
    },
    {
     "data": {
      "text/html": [
       "<table class=\"simpletable\">\n",
       "<caption>SARIMAX Results</caption>\n",
       "<tr>\n",
       "  <th>Dep. Variable:</th>           <td>y</td>        <th>  No. Observations:  </th>    <td>3310</td>   \n",
       "</tr>\n",
       "<tr>\n",
       "  <th>Model:</th>           <td>SARIMAX(2, 1, 2)</td> <th>  Log Likelihood     </th> <td>-15930.224</td>\n",
       "</tr>\n",
       "<tr>\n",
       "  <th>Date:</th>            <td>Sun, 18 Sep 2022</td> <th>  AIC                </th>  <td>31870.449</td>\n",
       "</tr>\n",
       "<tr>\n",
       "  <th>Time:</th>                <td>21:10:09</td>     <th>  BIC                </th>  <td>31900.971</td>\n",
       "</tr>\n",
       "<tr>\n",
       "  <th>Sample:</th>                  <td>0</td>        <th>  HQIC               </th>  <td>31881.373</td>\n",
       "</tr>\n",
       "<tr>\n",
       "  <th></th>                      <td> - 3310</td>     <th>                     </th>      <td> </td>    \n",
       "</tr>\n",
       "<tr>\n",
       "  <th>Covariance Type:</th>        <td>opg</td>       <th>                     </th>      <td> </td>    \n",
       "</tr>\n",
       "</table>\n",
       "<table class=\"simpletable\">\n",
       "<tr>\n",
       "     <td></td>       <th>coef</th>     <th>std err</th>      <th>z</th>      <th>P>|z|</th>  <th>[0.025</th>    <th>0.975]</th>  \n",
       "</tr>\n",
       "<tr>\n",
       "  <th>ar.L1</th>  <td>    0.9136</td> <td>    0.159</td> <td>    5.740</td> <td> 0.000</td> <td>    0.602</td> <td>    1.226</td>\n",
       "</tr>\n",
       "<tr>\n",
       "  <th>ar.L2</th>  <td>   -0.4603</td> <td>    0.131</td> <td>   -3.521</td> <td> 0.000</td> <td>   -0.716</td> <td>   -0.204</td>\n",
       "</tr>\n",
       "<tr>\n",
       "  <th>ma.L1</th>  <td>   -0.8254</td> <td>    0.162</td> <td>   -5.110</td> <td> 0.000</td> <td>   -1.142</td> <td>   -0.509</td>\n",
       "</tr>\n",
       "<tr>\n",
       "  <th>ma.L2</th>  <td>    0.3648</td> <td>    0.136</td> <td>    2.688</td> <td> 0.007</td> <td>    0.099</td> <td>    0.631</td>\n",
       "</tr>\n",
       "<tr>\n",
       "  <th>sigma2</th> <td>  889.5199</td> <td>    2.867</td> <td>  310.312</td> <td> 0.000</td> <td>  883.902</td> <td>  895.138</td>\n",
       "</tr>\n",
       "</table>\n",
       "<table class=\"simpletable\">\n",
       "<tr>\n",
       "  <th>Ljung-Box (L1) (Q):</th>     <td>0.00</td> <th>  Jarque-Bera (JB):  </th> <td>16354483.73</td>\n",
       "</tr>\n",
       "<tr>\n",
       "  <th>Prob(Q):</th>                <td>0.99</td> <th>  Prob(JB):          </th>    <td>0.00</td>    \n",
       "</tr>\n",
       "<tr>\n",
       "  <th>Heteroskedasticity (H):</th> <td>0.66</td> <th>  Skew:              </th>   <td>-11.20</td>   \n",
       "</tr>\n",
       "<tr>\n",
       "  <th>Prob(H) (two-sided):</th>    <td>0.00</td> <th>  Kurtosis:          </th>   <td>346.68</td>   \n",
       "</tr>\n",
       "</table><br/><br/>Warnings:<br/>[1] Covariance matrix calculated using the outer product of gradients (complex-step)."
      ],
      "text/plain": [
       "<class 'statsmodels.iolib.summary.Summary'>\n",
       "\"\"\"\n",
       "                               SARIMAX Results                                \n",
       "==============================================================================\n",
       "Dep. Variable:                      y   No. Observations:                 3310\n",
       "Model:               SARIMAX(2, 1, 2)   Log Likelihood              -15930.224\n",
       "Date:                Sun, 18 Sep 2022   AIC                          31870.449\n",
       "Time:                        21:10:09   BIC                          31900.971\n",
       "Sample:                             0   HQIC                         31881.373\n",
       "                               - 3310                                         \n",
       "Covariance Type:                  opg                                         \n",
       "==============================================================================\n",
       "                 coef    std err          z      P>|z|      [0.025      0.975]\n",
       "------------------------------------------------------------------------------\n",
       "ar.L1          0.9136      0.159      5.740      0.000       0.602       1.226\n",
       "ar.L2         -0.4603      0.131     -3.521      0.000      -0.716      -0.204\n",
       "ma.L1         -0.8254      0.162     -5.110      0.000      -1.142      -0.509\n",
       "ma.L2          0.3648      0.136      2.688      0.007       0.099       0.631\n",
       "sigma2       889.5199      2.867    310.312      0.000     883.902     895.138\n",
       "===================================================================================\n",
       "Ljung-Box (L1) (Q):                   0.00   Jarque-Bera (JB):          16354483.73\n",
       "Prob(Q):                              0.99   Prob(JB):                         0.00\n",
       "Heteroskedasticity (H):               0.66   Skew:                           -11.20\n",
       "Prob(H) (two-sided):                  0.00   Kurtosis:                       346.68\n",
       "===================================================================================\n",
       "\n",
       "Warnings:\n",
       "[1] Covariance matrix calculated using the outer product of gradients (complex-step).\n",
       "\"\"\""
      ]
     },
     "execution_count": 60,
     "metadata": {},
     "output_type": "execute_result"
    }
   ],
   "source": [
    "model = arimamodel(train)\n",
    "model.summary()"
   ]
  },
  {
   "cell_type": "markdown",
   "id": "6504127d",
   "metadata": {},
   "source": [
    "### Use the p,d,q values in the ARIMA model to predict price for test data"
   ]
  },
  {
   "cell_type": "code",
   "execution_count": 73,
   "id": "b3691235",
   "metadata": {},
   "outputs": [],
   "source": [
    "from statsmodels.tsa.arima.model import ARIMA"
   ]
  },
  {
   "cell_type": "code",
   "execution_count": 74,
   "id": "f6eafa5b",
   "metadata": {},
   "outputs": [],
   "source": [
    "arima= ARIMA(train,order=(2,1,2))"
   ]
  },
  {
   "cell_type": "code",
   "execution_count": 75,
   "id": "cf190e23",
   "metadata": {},
   "outputs": [],
   "source": [
    "model1=arima.fit()"
   ]
  },
  {
   "cell_type": "code",
   "execution_count": 76,
   "id": "cabed9d8",
   "metadata": {},
   "outputs": [
    {
     "data": {
      "text/plain": [
       "31870.448612856526"
      ]
     },
     "execution_count": 76,
     "metadata": {},
     "output_type": "execute_result"
    }
   ],
   "source": [
    "model1.aic"
   ]
  },
  {
   "cell_type": "code",
   "execution_count": 96,
   "id": "20ea1b1c",
   "metadata": {},
   "outputs": [],
   "source": [
    "pred = model1.forecast(steps=829)"
   ]
  },
  {
   "cell_type": "code",
   "execution_count": 97,
   "id": "ea5ba8ea",
   "metadata": {},
   "outputs": [
    {
     "data": {
      "text/plain": [
       "3310    2573.089562\n",
       "3311    2571.390020\n",
       "3312    2570.072246\n",
       "3313    2569.650572\n",
       "3314    2569.871864\n",
       "           ...     \n",
       "4134    2570.410411\n",
       "4135    2570.410411\n",
       "4136    2570.410411\n",
       "4137    2570.410411\n",
       "4138    2570.410411\n",
       "Name: predicted_mean, Length: 829, dtype: float64"
      ]
     },
     "execution_count": 97,
     "metadata": {},
     "output_type": "execute_result"
    }
   ],
   "source": [
    "pred"
   ]
  },
  {
   "cell_type": "code",
   "execution_count": null,
   "id": "4522e1e5",
   "metadata": {},
   "outputs": [],
   "source": []
  }
 ],
 "metadata": {
  "kernelspec": {
   "display_name": "Python 3",
   "language": "python",
   "name": "python3"
  },
  "language_info": {
   "codemirror_mode": {
    "name": "ipython",
    "version": 3
   },
   "file_extension": ".py",
   "mimetype": "text/x-python",
   "name": "python",
   "nbconvert_exporter": "python",
   "pygments_lexer": "ipython3",
   "version": "3.8.8"
  }
 },
 "nbformat": 4,
 "nbformat_minor": 5
}
